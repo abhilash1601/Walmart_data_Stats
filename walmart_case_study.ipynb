{
 "cells": [
  {
   "cell_type": "code",
   "execution_count": 1,
   "id": "ce6ecb82",
   "metadata": {},
   "outputs": [],
   "source": [
    "import pandas as pd\n",
    "from scipy import stats as stat\n",
    "import numpy as np\n",
    "import seaborn as sns\n",
    "import matplotlib.pyplot as plt"
   ]
  },
  {
   "cell_type": "code",
   "execution_count": 2,
   "id": "e747ef42",
   "metadata": {},
   "outputs": [],
   "source": [
    "df=pd.read_csv('walmart_data.txt')"
   ]
  },
  {
   "cell_type": "code",
   "execution_count": 3,
   "id": "b55fe571",
   "metadata": {},
   "outputs": [
    {
     "data": {
      "text/html": [
       "<div>\n",
       "<style scoped>\n",
       "    .dataframe tbody tr th:only-of-type {\n",
       "        vertical-align: middle;\n",
       "    }\n",
       "\n",
       "    .dataframe tbody tr th {\n",
       "        vertical-align: top;\n",
       "    }\n",
       "\n",
       "    .dataframe thead th {\n",
       "        text-align: right;\n",
       "    }\n",
       "</style>\n",
       "<table border=\"1\" class=\"dataframe\">\n",
       "  <thead>\n",
       "    <tr style=\"text-align: right;\">\n",
       "      <th></th>\n",
       "      <th>User_ID</th>\n",
       "      <th>Product_ID</th>\n",
       "      <th>Gender</th>\n",
       "      <th>Age</th>\n",
       "      <th>Occupation</th>\n",
       "      <th>City_Category</th>\n",
       "      <th>Stay_In_Current_City_Years</th>\n",
       "      <th>Marital_Status</th>\n",
       "      <th>Product_Category</th>\n",
       "      <th>Purchase</th>\n",
       "    </tr>\n",
       "  </thead>\n",
       "  <tbody>\n",
       "    <tr>\n",
       "      <th>0</th>\n",
       "      <td>1000001</td>\n",
       "      <td>P00069042</td>\n",
       "      <td>F</td>\n",
       "      <td>0-17</td>\n",
       "      <td>10</td>\n",
       "      <td>A</td>\n",
       "      <td>2</td>\n",
       "      <td>0</td>\n",
       "      <td>3</td>\n",
       "      <td>8370</td>\n",
       "    </tr>\n",
       "    <tr>\n",
       "      <th>1</th>\n",
       "      <td>1000001</td>\n",
       "      <td>P00248942</td>\n",
       "      <td>F</td>\n",
       "      <td>0-17</td>\n",
       "      <td>10</td>\n",
       "      <td>A</td>\n",
       "      <td>2</td>\n",
       "      <td>0</td>\n",
       "      <td>1</td>\n",
       "      <td>15200</td>\n",
       "    </tr>\n",
       "    <tr>\n",
       "      <th>2</th>\n",
       "      <td>1000001</td>\n",
       "      <td>P00087842</td>\n",
       "      <td>F</td>\n",
       "      <td>0-17</td>\n",
       "      <td>10</td>\n",
       "      <td>A</td>\n",
       "      <td>2</td>\n",
       "      <td>0</td>\n",
       "      <td>12</td>\n",
       "      <td>1422</td>\n",
       "    </tr>\n",
       "    <tr>\n",
       "      <th>3</th>\n",
       "      <td>1000001</td>\n",
       "      <td>P00085442</td>\n",
       "      <td>F</td>\n",
       "      <td>0-17</td>\n",
       "      <td>10</td>\n",
       "      <td>A</td>\n",
       "      <td>2</td>\n",
       "      <td>0</td>\n",
       "      <td>12</td>\n",
       "      <td>1057</td>\n",
       "    </tr>\n",
       "    <tr>\n",
       "      <th>4</th>\n",
       "      <td>1000002</td>\n",
       "      <td>P00285442</td>\n",
       "      <td>M</td>\n",
       "      <td>55+</td>\n",
       "      <td>16</td>\n",
       "      <td>C</td>\n",
       "      <td>4+</td>\n",
       "      <td>0</td>\n",
       "      <td>8</td>\n",
       "      <td>7969</td>\n",
       "    </tr>\n",
       "  </tbody>\n",
       "</table>\n",
       "</div>"
      ],
      "text/plain": [
       "   User_ID Product_ID Gender   Age  Occupation City_Category  \\\n",
       "0  1000001  P00069042      F  0-17          10             A   \n",
       "1  1000001  P00248942      F  0-17          10             A   \n",
       "2  1000001  P00087842      F  0-17          10             A   \n",
       "3  1000001  P00085442      F  0-17          10             A   \n",
       "4  1000002  P00285442      M   55+          16             C   \n",
       "\n",
       "  Stay_In_Current_City_Years  Marital_Status  Product_Category  Purchase  \n",
       "0                          2               0                 3      8370  \n",
       "1                          2               0                 1     15200  \n",
       "2                          2               0                12      1422  \n",
       "3                          2               0                12      1057  \n",
       "4                         4+               0                 8      7969  "
      ]
     },
     "execution_count": 3,
     "metadata": {},
     "output_type": "execute_result"
    }
   ],
   "source": [
    "df.head()"
   ]
  },
  {
   "cell_type": "code",
   "execution_count": 4,
   "id": "f41f2d52",
   "metadata": {},
   "outputs": [
    {
     "data": {
      "text/plain": [
       "(550068, 10)"
      ]
     },
     "execution_count": 4,
     "metadata": {},
     "output_type": "execute_result"
    }
   ],
   "source": [
    "#size of data set\n",
    "df.shape"
   ]
  },
  {
   "cell_type": "code",
   "execution_count": 5,
   "id": "3b7df15f",
   "metadata": {},
   "outputs": [
    {
     "name": "stdout",
     "output_type": "stream",
     "text": [
      "<class 'pandas.core.frame.DataFrame'>\n",
      "RangeIndex: 550068 entries, 0 to 550067\n",
      "Data columns (total 10 columns):\n",
      " #   Column                      Non-Null Count   Dtype \n",
      "---  ------                      --------------   ----- \n",
      " 0   User_ID                     550068 non-null  int64 \n",
      " 1   Product_ID                  550068 non-null  object\n",
      " 2   Gender                      550068 non-null  object\n",
      " 3   Age                         550068 non-null  object\n",
      " 4   Occupation                  550068 non-null  int64 \n",
      " 5   City_Category               550068 non-null  object\n",
      " 6   Stay_In_Current_City_Years  550068 non-null  object\n",
      " 7   Marital_Status              550068 non-null  int64 \n",
      " 8   Product_Category            550068 non-null  int64 \n",
      " 9   Purchase                    550068 non-null  int64 \n",
      "dtypes: int64(5), object(5)\n",
      "memory usage: 42.0+ MB\n"
     ]
    }
   ],
   "source": [
    "#we dont have any nan values\n",
    "df.info()"
   ]
  },
  {
   "cell_type": "code",
   "execution_count": 6,
   "id": "e47ccf0c",
   "metadata": {},
   "outputs": [
    {
     "data": {
      "text/html": [
       "<div>\n",
       "<style scoped>\n",
       "    .dataframe tbody tr th:only-of-type {\n",
       "        vertical-align: middle;\n",
       "    }\n",
       "\n",
       "    .dataframe tbody tr th {\n",
       "        vertical-align: top;\n",
       "    }\n",
       "\n",
       "    .dataframe thead th {\n",
       "        text-align: right;\n",
       "    }\n",
       "</style>\n",
       "<table border=\"1\" class=\"dataframe\">\n",
       "  <thead>\n",
       "    <tr style=\"text-align: right;\">\n",
       "      <th></th>\n",
       "      <th>User_ID</th>\n",
       "      <th>Occupation</th>\n",
       "      <th>Marital_Status</th>\n",
       "      <th>Product_Category</th>\n",
       "      <th>Purchase</th>\n",
       "    </tr>\n",
       "  </thead>\n",
       "  <tbody>\n",
       "    <tr>\n",
       "      <th>count</th>\n",
       "      <td>5.500680e+05</td>\n",
       "      <td>550068.000000</td>\n",
       "      <td>550068.000000</td>\n",
       "      <td>550068.000000</td>\n",
       "      <td>550068.000000</td>\n",
       "    </tr>\n",
       "    <tr>\n",
       "      <th>mean</th>\n",
       "      <td>1.003029e+06</td>\n",
       "      <td>8.076707</td>\n",
       "      <td>0.409653</td>\n",
       "      <td>5.404270</td>\n",
       "      <td>9263.968713</td>\n",
       "    </tr>\n",
       "    <tr>\n",
       "      <th>std</th>\n",
       "      <td>1.727592e+03</td>\n",
       "      <td>6.522660</td>\n",
       "      <td>0.491770</td>\n",
       "      <td>3.936211</td>\n",
       "      <td>5023.065394</td>\n",
       "    </tr>\n",
       "    <tr>\n",
       "      <th>min</th>\n",
       "      <td>1.000001e+06</td>\n",
       "      <td>0.000000</td>\n",
       "      <td>0.000000</td>\n",
       "      <td>1.000000</td>\n",
       "      <td>12.000000</td>\n",
       "    </tr>\n",
       "    <tr>\n",
       "      <th>25%</th>\n",
       "      <td>1.001516e+06</td>\n",
       "      <td>2.000000</td>\n",
       "      <td>0.000000</td>\n",
       "      <td>1.000000</td>\n",
       "      <td>5823.000000</td>\n",
       "    </tr>\n",
       "    <tr>\n",
       "      <th>50%</th>\n",
       "      <td>1.003077e+06</td>\n",
       "      <td>7.000000</td>\n",
       "      <td>0.000000</td>\n",
       "      <td>5.000000</td>\n",
       "      <td>8047.000000</td>\n",
       "    </tr>\n",
       "    <tr>\n",
       "      <th>75%</th>\n",
       "      <td>1.004478e+06</td>\n",
       "      <td>14.000000</td>\n",
       "      <td>1.000000</td>\n",
       "      <td>8.000000</td>\n",
       "      <td>12054.000000</td>\n",
       "    </tr>\n",
       "    <tr>\n",
       "      <th>max</th>\n",
       "      <td>1.006040e+06</td>\n",
       "      <td>20.000000</td>\n",
       "      <td>1.000000</td>\n",
       "      <td>20.000000</td>\n",
       "      <td>23961.000000</td>\n",
       "    </tr>\n",
       "  </tbody>\n",
       "</table>\n",
       "</div>"
      ],
      "text/plain": [
       "            User_ID     Occupation  Marital_Status  Product_Category  \\\n",
       "count  5.500680e+05  550068.000000   550068.000000     550068.000000   \n",
       "mean   1.003029e+06       8.076707        0.409653          5.404270   \n",
       "std    1.727592e+03       6.522660        0.491770          3.936211   \n",
       "min    1.000001e+06       0.000000        0.000000          1.000000   \n",
       "25%    1.001516e+06       2.000000        0.000000          1.000000   \n",
       "50%    1.003077e+06       7.000000        0.000000          5.000000   \n",
       "75%    1.004478e+06      14.000000        1.000000          8.000000   \n",
       "max    1.006040e+06      20.000000        1.000000         20.000000   \n",
       "\n",
       "            Purchase  \n",
       "count  550068.000000  \n",
       "mean     9263.968713  \n",
       "std      5023.065394  \n",
       "min        12.000000  \n",
       "25%      5823.000000  \n",
       "50%      8047.000000  \n",
       "75%     12054.000000  \n",
       "max     23961.000000  "
      ]
     },
     "execution_count": 6,
     "metadata": {},
     "output_type": "execute_result"
    }
   ],
   "source": [
    "#Numeric variable\n",
    "df.describe()"
   ]
  },
  {
   "cell_type": "code",
   "execution_count": 7,
   "id": "0f57a1f1",
   "metadata": {},
   "outputs": [
    {
     "data": {
      "text/html": [
       "<div>\n",
       "<style scoped>\n",
       "    .dataframe tbody tr th:only-of-type {\n",
       "        vertical-align: middle;\n",
       "    }\n",
       "\n",
       "    .dataframe tbody tr th {\n",
       "        vertical-align: top;\n",
       "    }\n",
       "\n",
       "    .dataframe thead th {\n",
       "        text-align: right;\n",
       "    }\n",
       "</style>\n",
       "<table border=\"1\" class=\"dataframe\">\n",
       "  <thead>\n",
       "    <tr style=\"text-align: right;\">\n",
       "      <th></th>\n",
       "      <th>Product_ID</th>\n",
       "      <th>Gender</th>\n",
       "      <th>Age</th>\n",
       "      <th>City_Category</th>\n",
       "      <th>Stay_In_Current_City_Years</th>\n",
       "    </tr>\n",
       "  </thead>\n",
       "  <tbody>\n",
       "    <tr>\n",
       "      <th>count</th>\n",
       "      <td>550068</td>\n",
       "      <td>550068</td>\n",
       "      <td>550068</td>\n",
       "      <td>550068</td>\n",
       "      <td>550068</td>\n",
       "    </tr>\n",
       "    <tr>\n",
       "      <th>unique</th>\n",
       "      <td>3631</td>\n",
       "      <td>2</td>\n",
       "      <td>7</td>\n",
       "      <td>3</td>\n",
       "      <td>5</td>\n",
       "    </tr>\n",
       "    <tr>\n",
       "      <th>top</th>\n",
       "      <td>P00265242</td>\n",
       "      <td>M</td>\n",
       "      <td>26-35</td>\n",
       "      <td>B</td>\n",
       "      <td>1</td>\n",
       "    </tr>\n",
       "    <tr>\n",
       "      <th>freq</th>\n",
       "      <td>1880</td>\n",
       "      <td>414259</td>\n",
       "      <td>219587</td>\n",
       "      <td>231173</td>\n",
       "      <td>193821</td>\n",
       "    </tr>\n",
       "  </tbody>\n",
       "</table>\n",
       "</div>"
      ],
      "text/plain": [
       "       Product_ID  Gender     Age City_Category Stay_In_Current_City_Years\n",
       "count      550068  550068  550068        550068                     550068\n",
       "unique       3631       2       7             3                          5\n",
       "top     P00265242       M   26-35             B                          1\n",
       "freq         1880  414259  219587        231173                     193821"
      ]
     },
     "execution_count": 7,
     "metadata": {},
     "output_type": "execute_result"
    }
   ],
   "source": [
    "#catagorecal variable\n",
    "df.describe(include='object')"
   ]
  },
  {
   "cell_type": "markdown",
   "id": "4041b8ea",
   "metadata": {},
   "source": [
    "#### User_ID:"
   ]
  },
  {
   "cell_type": "code",
   "execution_count": 8,
   "id": "e1cf42a5",
   "metadata": {},
   "outputs": [
    {
     "data": {
      "text/plain": [
       "0         1000001\n",
       "1         1000001\n",
       "2         1000001\n",
       "3         1000001\n",
       "4         1000002\n",
       "           ...   \n",
       "550063    1006033\n",
       "550064    1006035\n",
       "550065    1006036\n",
       "550066    1006038\n",
       "550067    1006039\n",
       "Name: User_ID, Length: 550068, dtype: int64"
      ]
     },
     "execution_count": 8,
     "metadata": {},
     "output_type": "execute_result"
    }
   ],
   "source": [
    "df['User_ID']"
   ]
  },
  {
   "cell_type": "code",
   "execution_count": 9,
   "id": "e1006e8b",
   "metadata": {},
   "outputs": [
    {
     "data": {
      "text/plain": [
       "1001680    1026\n",
       "1004277     979\n",
       "1001941     898\n",
       "1001181     862\n",
       "1000889     823\n",
       "           ... \n",
       "1005391       7\n",
       "1002690       7\n",
       "1002111       7\n",
       "1005608       7\n",
       "1000708       6\n",
       "Name: User_ID, Length: 5891, dtype: int64"
      ]
     },
     "execution_count": 9,
     "metadata": {},
     "output_type": "execute_result"
    }
   ],
   "source": [
    "df['User_ID'].value_counts()"
   ]
  },
  {
   "cell_type": "code",
   "execution_count": 10,
   "id": "bf1ee8e9",
   "metadata": {},
   "outputs": [
    {
     "data": {
      "text/html": [
       "<div>\n",
       "<style scoped>\n",
       "    .dataframe tbody tr th:only-of-type {\n",
       "        vertical-align: middle;\n",
       "    }\n",
       "\n",
       "    .dataframe tbody tr th {\n",
       "        vertical-align: top;\n",
       "    }\n",
       "\n",
       "    .dataframe thead th {\n",
       "        text-align: right;\n",
       "    }\n",
       "</style>\n",
       "<table border=\"1\" class=\"dataframe\">\n",
       "  <thead>\n",
       "    <tr style=\"text-align: right;\">\n",
       "      <th></th>\n",
       "      <th>User_ID</th>\n",
       "      <th>Product_ID</th>\n",
       "      <th>Gender</th>\n",
       "      <th>Age</th>\n",
       "      <th>Occupation</th>\n",
       "      <th>City_Category</th>\n",
       "      <th>Stay_In_Current_City_Years</th>\n",
       "      <th>Marital_Status</th>\n",
       "      <th>Product_Category</th>\n",
       "      <th>Purchase</th>\n",
       "    </tr>\n",
       "  </thead>\n",
       "  <tbody>\n",
       "    <tr>\n",
       "      <th>11055</th>\n",
       "      <td>1001680</td>\n",
       "      <td>P00036742</td>\n",
       "      <td>M</td>\n",
       "      <td>26-35</td>\n",
       "      <td>20</td>\n",
       "      <td>A</td>\n",
       "      <td>3</td>\n",
       "      <td>1</td>\n",
       "      <td>1</td>\n",
       "      <td>15670</td>\n",
       "    </tr>\n",
       "    <tr>\n",
       "      <th>11056</th>\n",
       "      <td>1001680</td>\n",
       "      <td>P00130642</td>\n",
       "      <td>M</td>\n",
       "      <td>26-35</td>\n",
       "      <td>20</td>\n",
       "      <td>A</td>\n",
       "      <td>3</td>\n",
       "      <td>1</td>\n",
       "      <td>11</td>\n",
       "      <td>6139</td>\n",
       "    </tr>\n",
       "    <tr>\n",
       "      <th>11057</th>\n",
       "      <td>1001680</td>\n",
       "      <td>P00105442</td>\n",
       "      <td>M</td>\n",
       "      <td>26-35</td>\n",
       "      <td>20</td>\n",
       "      <td>A</td>\n",
       "      <td>3</td>\n",
       "      <td>1</td>\n",
       "      <td>11</td>\n",
       "      <td>7607</td>\n",
       "    </tr>\n",
       "    <tr>\n",
       "      <th>11058</th>\n",
       "      <td>1001680</td>\n",
       "      <td>P00245642</td>\n",
       "      <td>M</td>\n",
       "      <td>26-35</td>\n",
       "      <td>20</td>\n",
       "      <td>A</td>\n",
       "      <td>3</td>\n",
       "      <td>1</td>\n",
       "      <td>5</td>\n",
       "      <td>8715</td>\n",
       "    </tr>\n",
       "    <tr>\n",
       "      <th>11059</th>\n",
       "      <td>1001680</td>\n",
       "      <td>P00123342</td>\n",
       "      <td>M</td>\n",
       "      <td>26-35</td>\n",
       "      <td>20</td>\n",
       "      <td>A</td>\n",
       "      <td>3</td>\n",
       "      <td>1</td>\n",
       "      <td>11</td>\n",
       "      <td>4472</td>\n",
       "    </tr>\n",
       "    <tr>\n",
       "      <th>...</th>\n",
       "      <td>...</td>\n",
       "      <td>...</td>\n",
       "      <td>...</td>\n",
       "      <td>...</td>\n",
       "      <td>...</td>\n",
       "      <td>...</td>\n",
       "      <td>...</td>\n",
       "      <td>...</td>\n",
       "      <td>...</td>\n",
       "      <td>...</td>\n",
       "    </tr>\n",
       "    <tr>\n",
       "      <th>517447</th>\n",
       "      <td>1001680</td>\n",
       "      <td>P00238742</td>\n",
       "      <td>M</td>\n",
       "      <td>26-35</td>\n",
       "      <td>20</td>\n",
       "      <td>A</td>\n",
       "      <td>3</td>\n",
       "      <td>1</td>\n",
       "      <td>13</td>\n",
       "      <td>774</td>\n",
       "    </tr>\n",
       "    <tr>\n",
       "      <th>517448</th>\n",
       "      <td>1001680</td>\n",
       "      <td>P00146742</td>\n",
       "      <td>M</td>\n",
       "      <td>26-35</td>\n",
       "      <td>20</td>\n",
       "      <td>A</td>\n",
       "      <td>3</td>\n",
       "      <td>1</td>\n",
       "      <td>1</td>\n",
       "      <td>4227</td>\n",
       "    </tr>\n",
       "    <tr>\n",
       "      <th>517449</th>\n",
       "      <td>1001680</td>\n",
       "      <td>P00285042</td>\n",
       "      <td>M</td>\n",
       "      <td>26-35</td>\n",
       "      <td>20</td>\n",
       "      <td>A</td>\n",
       "      <td>3</td>\n",
       "      <td>1</td>\n",
       "      <td>16</td>\n",
       "      <td>4825</td>\n",
       "    </tr>\n",
       "    <tr>\n",
       "      <th>517450</th>\n",
       "      <td>1001680</td>\n",
       "      <td>P00047742</td>\n",
       "      <td>M</td>\n",
       "      <td>26-35</td>\n",
       "      <td>20</td>\n",
       "      <td>A</td>\n",
       "      <td>3</td>\n",
       "      <td>1</td>\n",
       "      <td>16</td>\n",
       "      <td>12539</td>\n",
       "    </tr>\n",
       "    <tr>\n",
       "      <th>547057</th>\n",
       "      <td>1001680</td>\n",
       "      <td>P00372445</td>\n",
       "      <td>M</td>\n",
       "      <td>26-35</td>\n",
       "      <td>20</td>\n",
       "      <td>A</td>\n",
       "      <td>3</td>\n",
       "      <td>1</td>\n",
       "      <td>20</td>\n",
       "      <td>364</td>\n",
       "    </tr>\n",
       "  </tbody>\n",
       "</table>\n",
       "<p>1026 rows × 10 columns</p>\n",
       "</div>"
      ],
      "text/plain": [
       "        User_ID Product_ID Gender    Age  Occupation City_Category  \\\n",
       "11055   1001680  P00036742      M  26-35          20             A   \n",
       "11056   1001680  P00130642      M  26-35          20             A   \n",
       "11057   1001680  P00105442      M  26-35          20             A   \n",
       "11058   1001680  P00245642      M  26-35          20             A   \n",
       "11059   1001680  P00123342      M  26-35          20             A   \n",
       "...         ...        ...    ...    ...         ...           ...   \n",
       "517447  1001680  P00238742      M  26-35          20             A   \n",
       "517448  1001680  P00146742      M  26-35          20             A   \n",
       "517449  1001680  P00285042      M  26-35          20             A   \n",
       "517450  1001680  P00047742      M  26-35          20             A   \n",
       "547057  1001680  P00372445      M  26-35          20             A   \n",
       "\n",
       "       Stay_In_Current_City_Years  Marital_Status  Product_Category  Purchase  \n",
       "11055                           3               1                 1     15670  \n",
       "11056                           3               1                11      6139  \n",
       "11057                           3               1                11      7607  \n",
       "11058                           3               1                 5      8715  \n",
       "11059                           3               1                11      4472  \n",
       "...                           ...             ...               ...       ...  \n",
       "517447                          3               1                13       774  \n",
       "517448                          3               1                 1      4227  \n",
       "517449                          3               1                16      4825  \n",
       "517450                          3               1                16     12539  \n",
       "547057                          3               1                20       364  \n",
       "\n",
       "[1026 rows x 10 columns]"
      ]
     },
     "execution_count": 10,
     "metadata": {},
     "output_type": "execute_result"
    }
   ],
   "source": [
    "#this user id has highest num of purchases \n",
    "df[df['User_ID']==1001680]"
   ]
  },
  {
   "cell_type": "code",
   "execution_count": 11,
   "id": "b3a22eff",
   "metadata": {},
   "outputs": [
    {
     "data": {
      "text/plain": [
       "5891"
      ]
     },
     "execution_count": 11,
     "metadata": {},
     "output_type": "execute_result"
    }
   ],
   "source": [
    "#unique no of customer\n",
    "df['User_ID'].nunique()"
   ]
  },
  {
   "cell_type": "code",
   "execution_count": 12,
   "id": "7923d014",
   "metadata": {},
   "outputs": [
    {
     "data": {
      "image/png": "[encoded data removed]",
      "text/plain": [
       "<Figure size 1080x360 with 1 Axes>"
      ]
     },
     "metadata": {
      "needs_background": "light"
     },
     "output_type": "display_data"
    }
   ],
   "source": [
    "#x-axis is the user-id counts \n",
    "#y-axis is the freq of the counts\n",
    "fig, ax = plt.subplots(figsize=(15, 5))\n",
    "sns.histplot(df['User_ID'].value_counts(),kde=True,ax=ax)\n",
    "\n",
    "plt.xlabel('count of purchases in walmart')\n",
    "plt.ylabel('frequecny')\n",
    "plt.xticks([x for x in range(0,1026,50)])\n",
    "plt.show()"
   ]
  },
  {
   "cell_type": "markdown",
   "id": "df46a880",
   "metadata": {},
   "source": [
    "x-axis is count of purchases in walmart\n",
    "\n",
    "y-axis is the frequency\n",
    "\n",
    "most of the users have purchase history of around 0-50 purchases in walmert\n"
   ]
  },
  {
   "cell_type": "markdown",
   "id": "7997043a",
   "metadata": {},
   "source": [
    "#### Product_ID"
   ]
  },
  {
   "cell_type": "code",
   "execution_count": 13,
   "id": "931af2b6",
   "metadata": {},
   "outputs": [
    {
     "data": {
      "text/plain": [
       "0         P00069042\n",
       "1         P00248942\n",
       "2         P00087842\n",
       "3         P00085442\n",
       "4         P00285442\n",
       "            ...    \n",
       "550063    P00372445\n",
       "550064    P00375436\n",
       "550065    P00375436\n",
       "550066    P00375436\n",
       "550067    P00371644\n",
       "Name: Product_ID, Length: 550068, dtype: object"
      ]
     },
     "execution_count": 13,
     "metadata": {},
     "output_type": "execute_result"
    }
   ],
   "source": [
    "df['Product_ID']"
   ]
  },
  {
   "cell_type": "code",
   "execution_count": 14,
   "id": "159d8cd6",
   "metadata": {},
   "outputs": [
    {
     "data": {
      "text/plain": [
       "3631"
      ]
     },
     "execution_count": 14,
     "metadata": {},
     "output_type": "execute_result"
    }
   ],
   "source": [
    "#there are 3631 unique products in walmart\n",
    "df['Product_ID'].nunique()"
   ]
  },
  {
   "cell_type": "code",
   "execution_count": 15,
   "id": "31f77e03",
   "metadata": {},
   "outputs": [
    {
     "data": {
      "text/plain": [
       "P00265242    1880\n",
       "P00025442    1615\n",
       "P00110742    1612\n",
       "P00112142    1562\n",
       "P00057642    1470\n",
       "             ... \n",
       "P00167342       1\n",
       "P00091742       1\n",
       "P00357542       1\n",
       "P00053242       1\n",
       "P00364542       1\n",
       "Name: Product_ID, Length: 3631, dtype: int64"
      ]
     },
     "execution_count": 15,
     "metadata": {},
     "output_type": "execute_result"
    }
   ],
   "source": [
    "df['Product_ID'].value_counts()"
   ]
  },
  {
   "cell_type": "markdown",
   "id": "c14e9909",
   "metadata": {},
   "source": [
    "\n"
   ]
  },
  {
   "cell_type": "code",
   "execution_count": 16,
   "id": "3a37aea3",
   "metadata": {},
   "outputs": [],
   "source": [
    "top_10=pd.DataFrame(df['Product_ID'].value_counts()[:10]).reset_index()"
   ]
  },
  {
   "cell_type": "code",
   "execution_count": 17,
   "id": "6e1b0e33",
   "metadata": {},
   "outputs": [
    {
     "data": {
      "text/plain": [
       "Text(0, 0.5, 'frequecny')"
      ]
     },
     "execution_count": 17,
     "metadata": {},
     "output_type": "execute_result"
    },
    {
     "data": {
      "image/png": "[encoded data removed]",
      "text/plain": [
       "<Figure size 1080x360 with 1 Axes>"
      ]
     },
     "metadata": {
      "needs_background": "light"
     },
     "output_type": "display_data"
    }
   ],
   "source": [
    "fig, ax = plt.subplots(figsize=(15, 5))\n",
    "sns.barplot(x=top_10['index'],y=top_10['Product_ID'])\n",
    "plt.xlabel('Product_id')\n",
    "plt.ylabel('frequecny')"
   ]
  },
  {
   "cell_type": "markdown",
   "id": "09f28ad8",
   "metadata": {},
   "source": [
    "Top 10 products \n",
    "\n",
    "customers perfer buying product_id P00265242 more\n",
    "\n"
   ]
  },
  {
   "cell_type": "code",
   "execution_count": null,
   "id": "62ceaa25",
   "metadata": {},
   "outputs": [],
   "source": []
  },
  {
   "cell_type": "markdown",
   "id": "89cb3663",
   "metadata": {},
   "source": [
    "#### Gender:"
   ]
  },
  {
   "cell_type": "code",
   "execution_count": 18,
   "id": "09b499aa",
   "metadata": {},
   "outputs": [
    {
     "data": {
      "text/plain": [
       "0         F\n",
       "1         F\n",
       "2         F\n",
       "3         F\n",
       "4         M\n",
       "         ..\n",
       "550063    M\n",
       "550064    F\n",
       "550065    F\n",
       "550066    F\n",
       "550067    F\n",
       "Name: Gender, Length: 550068, dtype: object"
      ]
     },
     "execution_count": 18,
     "metadata": {},
     "output_type": "execute_result"
    }
   ],
   "source": [
    "df['Gender']"
   ]
  },
  {
   "cell_type": "code",
   "execution_count": 19,
   "id": "e949a266",
   "metadata": {},
   "outputs": [
    {
     "data": {
      "text/plain": [
       "M    414259\n",
       "F    135809\n",
       "Name: Gender, dtype: int64"
      ]
     },
     "execution_count": 19,
     "metadata": {},
     "output_type": "execute_result"
    }
   ],
   "source": [
    "df['Gender'].value_counts()"
   ]
  },
  {
   "cell_type": "code",
   "execution_count": 20,
   "id": "bccbb3e0",
   "metadata": {},
   "outputs": [
    {
     "name": "stderr",
     "output_type": "stream",
     "text": [
      "C:\\Users\\Abhilash\\anaconda3\\lib\\site-packages\\seaborn\\_decorators.py:36: FutureWarning: Pass the following variable as a keyword arg: x. From version 0.12, the only valid positional argument will be `data`, and passing other arguments without an explicit keyword will result in an error or misinterpretation.\n",
      "  warnings.warn(\n"
     ]
    },
    {
     "data": {
      "text/plain": [
       "<AxesSubplot:xlabel='Gender', ylabel='count'>"
      ]
     },
     "execution_count": 20,
     "metadata": {},
     "output_type": "execute_result"
    },
    {
     "data": {
      "image/png": "[encoded data removed]",
      "text/plain": [
       "<Figure size 432x288 with 1 Axes>"
      ]
     },
     "metadata": {
      "needs_background": "light"
     },
     "output_type": "display_data"
    }
   ],
   "source": [
    "sns.countplot(df['Gender'])"
   ]
  },
  {
   "cell_type": "markdown",
   "id": "d400b921",
   "metadata": {},
   "source": [
    "Males tends to buy more"
   ]
  },
  {
   "cell_type": "code",
   "execution_count": null,
   "id": "83d36576",
   "metadata": {},
   "outputs": [],
   "source": []
  },
  {
   "cell_type": "markdown",
   "id": "f9035e55",
   "metadata": {},
   "source": [
    "#### Age:"
   ]
  },
  {
   "cell_type": "code",
   "execution_count": 21,
   "id": "01b4e1e5",
   "metadata": {},
   "outputs": [
    {
     "data": {
      "text/plain": [
       "0          0-17\n",
       "1          0-17\n",
       "2          0-17\n",
       "3          0-17\n",
       "4           55+\n",
       "          ...  \n",
       "550063    51-55\n",
       "550064    26-35\n",
       "550065    26-35\n",
       "550066      55+\n",
       "550067    46-50\n",
       "Name: Age, Length: 550068, dtype: object"
      ]
     },
     "execution_count": 21,
     "metadata": {},
     "output_type": "execute_result"
    }
   ],
   "source": [
    "df['Age']"
   ]
  },
  {
   "cell_type": "code",
   "execution_count": 22,
   "id": "75cac5e7",
   "metadata": {},
   "outputs": [
    {
     "data": {
      "text/plain": [
       "26-35    219587\n",
       "36-45    110013\n",
       "18-25     99660\n",
       "46-50     45701\n",
       "51-55     38501\n",
       "55+       21504\n",
       "0-17      15102\n",
       "Name: Age, dtype: int64"
      ]
     },
     "execution_count": 22,
     "metadata": {},
     "output_type": "execute_result"
    }
   ],
   "source": [
    "df['Age'].value_counts()"
   ]
  },
  {
   "cell_type": "code",
   "execution_count": 23,
   "id": "19d19c15",
   "metadata": {},
   "outputs": [
    {
     "name": "stderr",
     "output_type": "stream",
     "text": [
      "C:\\Users\\Abhilash\\anaconda3\\lib\\site-packages\\seaborn\\_decorators.py:36: FutureWarning: Pass the following variable as a keyword arg: x. From version 0.12, the only valid positional argument will be `data`, and passing other arguments without an explicit keyword will result in an error or misinterpretation.\n",
      "  warnings.warn(\n"
     ]
    },
    {
     "data": {
      "text/plain": [
       "<AxesSubplot:xlabel='Age', ylabel='count'>"
      ]
     },
     "execution_count": 23,
     "metadata": {},
     "output_type": "execute_result"
    },
    {
     "data": {
      "image/png": "[encoded data removed]",
      "text/plain": [
       "<Figure size 432x288 with 1 Axes>"
      ]
     },
     "metadata": {
      "needs_background": "light"
     },
     "output_type": "display_data"
    }
   ],
   "source": [
    "sns.countplot(df['Age'])"
   ]
  },
  {
   "cell_type": "markdown",
   "id": "6ef91740",
   "metadata": {},
   "source": [
    "Age between 26-35 years tends to buy more "
   ]
  },
  {
   "cell_type": "code",
   "execution_count": null,
   "id": "2fb30461",
   "metadata": {},
   "outputs": [],
   "source": []
  },
  {
   "cell_type": "markdown",
   "id": "ae4042a2",
   "metadata": {},
   "source": [
    "#### Occupation"
   ]
  },
  {
   "cell_type": "code",
   "execution_count": 24,
   "id": "db7c715a",
   "metadata": {},
   "outputs": [
    {
     "data": {
      "text/plain": [
       "0         10\n",
       "1         10\n",
       "2         10\n",
       "3         10\n",
       "4         16\n",
       "          ..\n",
       "550063    13\n",
       "550064     1\n",
       "550065    15\n",
       "550066     1\n",
       "550067     0\n",
       "Name: Occupation, Length: 550068, dtype: int64"
      ]
     },
     "execution_count": 24,
     "metadata": {},
     "output_type": "execute_result"
    }
   ],
   "source": [
    "df['Occupation']"
   ]
  },
  {
   "cell_type": "code",
   "execution_count": 25,
   "id": "63d23f58",
   "metadata": {},
   "outputs": [
    {
     "data": {
      "text/plain": [
       "4     72308\n",
       "0     69638\n",
       "7     59133\n",
       "1     47426\n",
       "17    40043\n",
       "20    33562\n",
       "12    31179\n",
       "14    27309\n",
       "2     26588\n",
       "16    25371\n",
       "6     20355\n",
       "3     17650\n",
       "10    12930\n",
       "5     12177\n",
       "15    12165\n",
       "11    11586\n",
       "19     8461\n",
       "13     7728\n",
       "18     6622\n",
       "9      6291\n",
       "8      1546\n",
       "Name: Occupation, dtype: int64"
      ]
     },
     "execution_count": 25,
     "metadata": {},
     "output_type": "execute_result"
    }
   ],
   "source": [
    "df['Occupation'].value_counts()"
   ]
  },
  {
   "cell_type": "code",
   "execution_count": 26,
   "id": "86ec2754",
   "metadata": {},
   "outputs": [
    {
     "data": {
      "text/plain": [
       "21"
      ]
     },
     "execution_count": 26,
     "metadata": {},
     "output_type": "execute_result"
    }
   ],
   "source": [
    "# there about 21 occupation catagoery\n",
    "df['Occupation'].nunique()"
   ]
  },
  {
   "cell_type": "code",
   "execution_count": 27,
   "id": "f590f281",
   "metadata": {},
   "outputs": [
    {
     "name": "stderr",
     "output_type": "stream",
     "text": [
      "C:\\Users\\Abhilash\\anaconda3\\lib\\site-packages\\seaborn\\_decorators.py:36: FutureWarning: Pass the following variable as a keyword arg: x. From version 0.12, the only valid positional argument will be `data`, and passing other arguments without an explicit keyword will result in an error or misinterpretation.\n",
      "  warnings.warn(\n"
     ]
    },
    {
     "data": {
      "text/plain": [
       "<AxesSubplot:xlabel='Occupation', ylabel='count'>"
      ]
     },
     "execution_count": 27,
     "metadata": {},
     "output_type": "execute_result"
    },
    {
     "data": {
      "image/png": "[encoded data removed]",
      "text/plain": [
       "<Figure size 1080x360 with 1 Axes>"
      ]
     },
     "metadata": {
      "needs_background": "light"
     },
     "output_type": "display_data"
    }
   ],
   "source": [
    "fig, ax = plt.subplots(figsize=(15, 5))\n",
    "sns.countplot(df['Occupation'])"
   ]
  },
  {
   "cell_type": "markdown",
   "id": "65ba0241",
   "metadata": {},
   "source": [
    "customers having occupational catagorery as 4,0,7 tends to buy more"
   ]
  },
  {
   "cell_type": "code",
   "execution_count": null,
   "id": "977073b1",
   "metadata": {},
   "outputs": [],
   "source": []
  },
  {
   "cell_type": "markdown",
   "id": "4ba69221",
   "metadata": {},
   "source": [
    "#### City_Category:"
   ]
  },
  {
   "cell_type": "code",
   "execution_count": 28,
   "id": "5c5ea68a",
   "metadata": {},
   "outputs": [
    {
     "data": {
      "text/plain": [
       "0         A\n",
       "1         A\n",
       "2         A\n",
       "3         A\n",
       "4         C\n",
       "         ..\n",
       "550063    B\n",
       "550064    C\n",
       "550065    B\n",
       "550066    C\n",
       "550067    B\n",
       "Name: City_Category, Length: 550068, dtype: object"
      ]
     },
     "execution_count": 28,
     "metadata": {},
     "output_type": "execute_result"
    }
   ],
   "source": [
    "df['City_Category']"
   ]
  },
  {
   "cell_type": "code",
   "execution_count": 29,
   "id": "49022f92",
   "metadata": {},
   "outputs": [
    {
     "data": {
      "text/plain": [
       "B    231173\n",
       "C    171175\n",
       "A    147720\n",
       "Name: City_Category, dtype: int64"
      ]
     },
     "execution_count": 29,
     "metadata": {},
     "output_type": "execute_result"
    }
   ],
   "source": [
    "df['City_Category'].value_counts()"
   ]
  },
  {
   "cell_type": "code",
   "execution_count": 30,
   "id": "0bb7d608",
   "metadata": {},
   "outputs": [
    {
     "data": {
      "text/plain": [
       "3"
      ]
     },
     "execution_count": 30,
     "metadata": {},
     "output_type": "execute_result"
    }
   ],
   "source": [
    "df['City_Category'].nunique()"
   ]
  },
  {
   "cell_type": "code",
   "execution_count": 31,
   "id": "c6e57a15",
   "metadata": {},
   "outputs": [
    {
     "name": "stderr",
     "output_type": "stream",
     "text": [
      "C:\\Users\\Abhilash\\anaconda3\\lib\\site-packages\\seaborn\\_decorators.py:36: FutureWarning: Pass the following variable as a keyword arg: x. From version 0.12, the only valid positional argument will be `data`, and passing other arguments without an explicit keyword will result in an error or misinterpretation.\n",
      "  warnings.warn(\n"
     ]
    },
    {
     "data": {
      "text/plain": [
       "<AxesSubplot:xlabel='City_Category', ylabel='count'>"
      ]
     },
     "execution_count": 31,
     "metadata": {},
     "output_type": "execute_result"
    },
    {
     "data": {
      "image/png": "[encoded data removed]",
      "text/plain": [
       "<Figure size 432x288 with 1 Axes>"
      ]
     },
     "metadata": {
      "needs_background": "light"
     },
     "output_type": "display_data"
    }
   ],
   "source": [
    "sns.countplot(df['City_Category'])"
   ]
  },
  {
   "cell_type": "markdown",
   "id": "ba55206e",
   "metadata": {},
   "source": [
    "Customers from city B tends to buy more"
   ]
  },
  {
   "cell_type": "code",
   "execution_count": 32,
   "id": "e96aefe2",
   "metadata": {},
   "outputs": [
    {
     "data": {
      "text/plain": [
       "0          2\n",
       "1          2\n",
       "2          2\n",
       "3          2\n",
       "4         4+\n",
       "          ..\n",
       "550063     1\n",
       "550064     3\n",
       "550065    4+\n",
       "550066     2\n",
       "550067    4+\n",
       "Name: Stay_In_Current_City_Years, Length: 550068, dtype: object"
      ]
     },
     "execution_count": 32,
     "metadata": {},
     "output_type": "execute_result"
    }
   ],
   "source": [
    "df['Stay_In_Current_City_Years']"
   ]
  },
  {
   "cell_type": "code",
   "execution_count": 33,
   "id": "d6fe4d7e",
   "metadata": {},
   "outputs": [
    {
     "data": {
      "text/plain": [
       "1     193821\n",
       "2     101838\n",
       "3      95285\n",
       "4+     84726\n",
       "0      74398\n",
       "Name: Stay_In_Current_City_Years, dtype: int64"
      ]
     },
     "execution_count": 33,
     "metadata": {},
     "output_type": "execute_result"
    }
   ],
   "source": [
    "df['Stay_In_Current_City_Years'].value_counts()"
   ]
  },
  {
   "cell_type": "code",
   "execution_count": 34,
   "id": "abebf78b",
   "metadata": {},
   "outputs": [
    {
     "data": {
      "text/plain": [
       "5"
      ]
     },
     "execution_count": 34,
     "metadata": {},
     "output_type": "execute_result"
    }
   ],
   "source": [
    "df['Stay_In_Current_City_Years'].nunique()"
   ]
  },
  {
   "cell_type": "code",
   "execution_count": 35,
   "id": "66f316ae",
   "metadata": {},
   "outputs": [
    {
     "name": "stderr",
     "output_type": "stream",
     "text": [
      "C:\\Users\\Abhilash\\anaconda3\\lib\\site-packages\\seaborn\\_decorators.py:36: FutureWarning: Pass the following variable as a keyword arg: x. From version 0.12, the only valid positional argument will be `data`, and passing other arguments without an explicit keyword will result in an error or misinterpretation.\n",
      "  warnings.warn(\n"
     ]
    },
    {
     "data": {
      "text/plain": [
       "<AxesSubplot:xlabel='Stay_In_Current_City_Years', ylabel='count'>"
      ]
     },
     "execution_count": 35,
     "metadata": {},
     "output_type": "execute_result"
    },
    {
     "data": {
      "image/png": "[encoded data removed]",
      "text/plain": [
       "<Figure size 432x288 with 1 Axes>"
      ]
     },
     "metadata": {
      "needs_background": "light"
     },
     "output_type": "display_data"
    }
   ],
   "source": [
    "sns.countplot(df['Stay_In_Current_City_Years'])"
   ]
  },
  {
   "cell_type": "markdown",
   "id": "8eefdc0d",
   "metadata": {},
   "source": [
    "Customers who stayed 1 year in current city tends to buy more"
   ]
  },
  {
   "cell_type": "code",
   "execution_count": null,
   "id": "6b43fc76",
   "metadata": {},
   "outputs": [],
   "source": []
  },
  {
   "cell_type": "markdown",
   "id": "47bdb445",
   "metadata": {},
   "source": [
    "#### Marital_Status"
   ]
  },
  {
   "cell_type": "code",
   "execution_count": 36,
   "id": "b9e54131",
   "metadata": {},
   "outputs": [
    {
     "data": {
      "text/plain": [
       "0         0\n",
       "1         0\n",
       "2         0\n",
       "3         0\n",
       "4         0\n",
       "         ..\n",
       "550063    1\n",
       "550064    0\n",
       "550065    1\n",
       "550066    0\n",
       "550067    1\n",
       "Name: Marital_Status, Length: 550068, dtype: int64"
      ]
     },
     "execution_count": 36,
     "metadata": {},
     "output_type": "execute_result"
    }
   ],
   "source": [
    "df['Marital_Status']"
   ]
  },
  {
   "cell_type": "code",
   "execution_count": 37,
   "id": "118c0b1d",
   "metadata": {},
   "outputs": [
    {
     "data": {
      "text/plain": [
       "0    324731\n",
       "1    225337\n",
       "Name: Marital_Status, dtype: int64"
      ]
     },
     "execution_count": 37,
     "metadata": {},
     "output_type": "execute_result"
    }
   ],
   "source": [
    "df['Marital_Status'].value_counts()"
   ]
  },
  {
   "cell_type": "code",
   "execution_count": 38,
   "id": "baf307f5",
   "metadata": {},
   "outputs": [
    {
     "data": {
      "text/plain": [
       "array([0, 1], dtype=int64)"
      ]
     },
     "execution_count": 38,
     "metadata": {},
     "output_type": "execute_result"
    }
   ],
   "source": [
    "df['Marital_Status'].unique()"
   ]
  },
  {
   "cell_type": "code",
   "execution_count": 39,
   "id": "fc525046",
   "metadata": {},
   "outputs": [
    {
     "name": "stderr",
     "output_type": "stream",
     "text": [
      "C:\\Users\\Abhilash\\anaconda3\\lib\\site-packages\\seaborn\\_decorators.py:36: FutureWarning: Pass the following variable as a keyword arg: x. From version 0.12, the only valid positional argument will be `data`, and passing other arguments without an explicit keyword will result in an error or misinterpretation.\n",
      "  warnings.warn(\n"
     ]
    },
    {
     "data": {
      "text/plain": [
       "<AxesSubplot:xlabel='Marital_Status', ylabel='count'>"
      ]
     },
     "execution_count": 39,
     "metadata": {},
     "output_type": "execute_result"
    },
    {
     "data": {
      "image/png": "[encoded data removed]",
      "text/plain": [
       "<Figure size 432x288 with 1 Axes>"
      ]
     },
     "metadata": {
      "needs_background": "light"
     },
     "output_type": "display_data"
    }
   ],
   "source": [
    "sns.countplot(df['Marital_Status'])"
   ]
  },
  {
   "cell_type": "markdown",
   "id": "34c5c4e8",
   "metadata": {},
   "source": [
    "customers having marital status as 0 tends to buy more "
   ]
  },
  {
   "cell_type": "code",
   "execution_count": null,
   "id": "d5e8d073",
   "metadata": {},
   "outputs": [],
   "source": []
  },
  {
   "cell_type": "markdown",
   "id": "7f1e9301",
   "metadata": {},
   "source": [
    "#### ProductCategory"
   ]
  },
  {
   "cell_type": "code",
   "execution_count": 40,
   "id": "8efb19fe",
   "metadata": {},
   "outputs": [
    {
     "data": {
      "text/plain": [
       "0          3\n",
       "1          1\n",
       "2         12\n",
       "3         12\n",
       "4          8\n",
       "          ..\n",
       "550063    20\n",
       "550064    20\n",
       "550065    20\n",
       "550066    20\n",
       "550067    20\n",
       "Name: Product_Category, Length: 550068, dtype: int64"
      ]
     },
     "execution_count": 40,
     "metadata": {},
     "output_type": "execute_result"
    }
   ],
   "source": [
    "df['Product_Category']"
   ]
  },
  {
   "cell_type": "code",
   "execution_count": 41,
   "id": "c96198b6",
   "metadata": {},
   "outputs": [
    {
     "data": {
      "text/plain": [
       "5     150933\n",
       "1     140378\n",
       "8     113925\n",
       "11     24287\n",
       "2      23864\n",
       "6      20466\n",
       "3      20213\n",
       "4      11753\n",
       "16      9828\n",
       "15      6290\n",
       "13      5549\n",
       "10      5125\n",
       "12      3947\n",
       "7       3721\n",
       "18      3125\n",
       "20      2550\n",
       "19      1603\n",
       "14      1523\n",
       "17       578\n",
       "9        410\n",
       "Name: Product_Category, dtype: int64"
      ]
     },
     "execution_count": 41,
     "metadata": {},
     "output_type": "execute_result"
    }
   ],
   "source": [
    "df['Product_Category'].value_counts()"
   ]
  },
  {
   "cell_type": "code",
   "execution_count": 42,
   "id": "1c18d062",
   "metadata": {},
   "outputs": [
    {
     "data": {
      "text/plain": [
       "array([ 3,  1, 12,  8,  5,  4,  2,  6, 14, 11, 13, 15,  7, 16, 18, 10, 17,\n",
       "        9, 20, 19], dtype=int64)"
      ]
     },
     "execution_count": 42,
     "metadata": {},
     "output_type": "execute_result"
    }
   ],
   "source": [
    "df['Product_Category'].unique()"
   ]
  },
  {
   "cell_type": "code",
   "execution_count": 43,
   "id": "e6988ef4",
   "metadata": {},
   "outputs": [
    {
     "data": {
      "text/plain": [
       "20"
      ]
     },
     "execution_count": 43,
     "metadata": {},
     "output_type": "execute_result"
    }
   ],
   "source": [
    "df['Product_Category'].nunique()"
   ]
  },
  {
   "cell_type": "code",
   "execution_count": 44,
   "id": "17bed1bc",
   "metadata": {},
   "outputs": [
    {
     "name": "stderr",
     "output_type": "stream",
     "text": [
      "C:\\Users\\Abhilash\\anaconda3\\lib\\site-packages\\seaborn\\_decorators.py:36: FutureWarning: Pass the following variable as a keyword arg: x. From version 0.12, the only valid positional argument will be `data`, and passing other arguments without an explicit keyword will result in an error or misinterpretation.\n",
      "  warnings.warn(\n"
     ]
    },
    {
     "data": {
      "text/plain": [
       "<AxesSubplot:xlabel='Product_Category', ylabel='count'>"
      ]
     },
     "execution_count": 44,
     "metadata": {},
     "output_type": "execute_result"
    },
    {
     "data": {
      "image/png": "[encoded data removed]",
      "text/plain": [
       "<Figure size 1080x360 with 1 Axes>"
      ]
     },
     "metadata": {
      "needs_background": "light"
     },
     "output_type": "display_data"
    }
   ],
   "source": [
    "fig, ax = plt.subplots(figsize=(15, 5))\n",
    "sns.countplot(df['Product_Category'])"
   ]
  },
  {
   "cell_type": "markdown",
   "id": "123ef984",
   "metadata": {},
   "source": [
    "Customers tends to buy product_category 5,1,8 more "
   ]
  },
  {
   "cell_type": "code",
   "execution_count": 45,
   "id": "2a132fd0",
   "metadata": {},
   "outputs": [],
   "source": [
    "# counts of unique products in each product_catagoery\n",
    "df_cat_prod=pd.DataFrame(df.groupby(df['Product_Category'])['Product_ID'].nunique()).reset_index()"
   ]
  },
  {
   "cell_type": "code",
   "execution_count": 46,
   "id": "adc45b13",
   "metadata": {},
   "outputs": [
    {
     "data": {
      "text/plain": [
       "Text(0, 0.5, 'unique product count')"
      ]
     },
     "execution_count": 46,
     "metadata": {},
     "output_type": "execute_result"
    },
    {
     "data": {
      "image/png": "[encoded data removed]",
      "text/plain": [
       "<Figure size 1080x360 with 1 Axes>"
      ]
     },
     "metadata": {
      "needs_background": "light"
     },
     "output_type": "display_data"
    }
   ],
   "source": [
    "fig, ax = plt.subplots(figsize=(15, 5))\n",
    "sns.barplot(x=df_cat_prod['Product_Category'],y=df_cat_prod['Product_ID'])\n",
    "plt.ylabel('unique product count')"
   ]
  },
  {
   "cell_type": "markdown",
   "id": "fb16e218",
   "metadata": {},
   "source": [
    "product category 8 have highest number of unique products in walmaert"
   ]
  },
  {
   "cell_type": "code",
   "execution_count": null,
   "id": "44b4a722",
   "metadata": {},
   "outputs": [],
   "source": []
  },
  {
   "cell_type": "markdown",
   "id": "32b87b6d",
   "metadata": {},
   "source": [
    "#### Purchase:"
   ]
  },
  {
   "cell_type": "code",
   "execution_count": 47,
   "id": "945d29b9",
   "metadata": {},
   "outputs": [
    {
     "data": {
      "text/plain": [
       "0          8370\n",
       "1         15200\n",
       "2          1422\n",
       "3          1057\n",
       "4          7969\n",
       "          ...  \n",
       "550063      368\n",
       "550064      371\n",
       "550065      137\n",
       "550066      365\n",
       "550067      490\n",
       "Name: Purchase, Length: 550068, dtype: int64"
      ]
     },
     "execution_count": 47,
     "metadata": {},
     "output_type": "execute_result"
    }
   ],
   "source": [
    "df['Purchase']"
   ]
  },
  {
   "cell_type": "code",
   "execution_count": 48,
   "id": "9492cd34",
   "metadata": {},
   "outputs": [
    {
     "data": {
      "text/plain": [
       "9263.968712959126"
      ]
     },
     "execution_count": 48,
     "metadata": {},
     "output_type": "execute_result"
    }
   ],
   "source": [
    "df['Purchase'].mean()"
   ]
  },
  {
   "cell_type": "code",
   "execution_count": 49,
   "id": "894593fe",
   "metadata": {},
   "outputs": [
    {
     "data": {
      "text/plain": [
       "12"
      ]
     },
     "execution_count": 49,
     "metadata": {},
     "output_type": "execute_result"
    }
   ],
   "source": [
    "df['Purchase'].min()"
   ]
  },
  {
   "cell_type": "code",
   "execution_count": 50,
   "id": "0e250eab",
   "metadata": {},
   "outputs": [
    {
     "data": {
      "text/plain": [
       "23961"
      ]
     },
     "execution_count": 50,
     "metadata": {},
     "output_type": "execute_result"
    }
   ],
   "source": [
    "df['Purchase'].max()"
   ]
  },
  {
   "cell_type": "code",
   "execution_count": 51,
   "id": "42c71d9a",
   "metadata": {},
   "outputs": [
    {
     "name": "stderr",
     "output_type": "stream",
     "text": [
      "C:\\Users\\Abhilash\\anaconda3\\lib\\site-packages\\seaborn\\distributions.py:2557: FutureWarning: `distplot` is a deprecated function and will be removed in a future version. Please adapt your code to use either `displot` (a figure-level function with similar flexibility) or `histplot` (an axes-level function for histograms).\n",
      "  warnings.warn(msg, FutureWarning)\n"
     ]
    },
    {
     "data": {
      "text/plain": [
       "<AxesSubplot:xlabel='Purchase', ylabel='Density'>"
      ]
     },
     "execution_count": 51,
     "metadata": {},
     "output_type": "execute_result"
    },
    {
     "data": {
      "image/png": "[encoded data removed]",
      "text/plain": [
       "<Figure size 432x288 with 1 Axes>"
      ]
     },
     "metadata": {
      "needs_background": "light"
     },
     "output_type": "display_data"
    }
   ],
   "source": [
    "#drist of purchase price \n",
    "sns.distplot(df['Purchase'])"
   ]
  },
  {
   "cell_type": "markdown",
   "id": "2524a024",
   "metadata": {},
   "source": [
    "### Bivariate"
   ]
  },
  {
   "cell_type": "code",
   "execution_count": 52,
   "id": "6754eb9b",
   "metadata": {},
   "outputs": [
    {
     "data": {
      "text/html": [
       "<div>\n",
       "<style scoped>\n",
       "    .dataframe tbody tr th:only-of-type {\n",
       "        vertical-align: middle;\n",
       "    }\n",
       "\n",
       "    .dataframe tbody tr th {\n",
       "        vertical-align: top;\n",
       "    }\n",
       "\n",
       "    .dataframe thead th {\n",
       "        text-align: right;\n",
       "    }\n",
       "</style>\n",
       "<table border=\"1\" class=\"dataframe\">\n",
       "  <thead>\n",
       "    <tr style=\"text-align: right;\">\n",
       "      <th></th>\n",
       "      <th>User_ID</th>\n",
       "      <th>Product_ID</th>\n",
       "      <th>Gender</th>\n",
       "      <th>Age</th>\n",
       "      <th>Occupation</th>\n",
       "      <th>City_Category</th>\n",
       "      <th>Stay_In_Current_City_Years</th>\n",
       "      <th>Marital_Status</th>\n",
       "      <th>Product_Category</th>\n",
       "      <th>Purchase</th>\n",
       "    </tr>\n",
       "  </thead>\n",
       "  <tbody>\n",
       "    <tr>\n",
       "      <th>0</th>\n",
       "      <td>1000001</td>\n",
       "      <td>P00069042</td>\n",
       "      <td>F</td>\n",
       "      <td>0-17</td>\n",
       "      <td>10</td>\n",
       "      <td>A</td>\n",
       "      <td>2</td>\n",
       "      <td>0</td>\n",
       "      <td>3</td>\n",
       "      <td>8370</td>\n",
       "    </tr>\n",
       "    <tr>\n",
       "      <th>1</th>\n",
       "      <td>1000001</td>\n",
       "      <td>P00248942</td>\n",
       "      <td>F</td>\n",
       "      <td>0-17</td>\n",
       "      <td>10</td>\n",
       "      <td>A</td>\n",
       "      <td>2</td>\n",
       "      <td>0</td>\n",
       "      <td>1</td>\n",
       "      <td>15200</td>\n",
       "    </tr>\n",
       "    <tr>\n",
       "      <th>2</th>\n",
       "      <td>1000001</td>\n",
       "      <td>P00087842</td>\n",
       "      <td>F</td>\n",
       "      <td>0-17</td>\n",
       "      <td>10</td>\n",
       "      <td>A</td>\n",
       "      <td>2</td>\n",
       "      <td>0</td>\n",
       "      <td>12</td>\n",
       "      <td>1422</td>\n",
       "    </tr>\n",
       "    <tr>\n",
       "      <th>3</th>\n",
       "      <td>1000001</td>\n",
       "      <td>P00085442</td>\n",
       "      <td>F</td>\n",
       "      <td>0-17</td>\n",
       "      <td>10</td>\n",
       "      <td>A</td>\n",
       "      <td>2</td>\n",
       "      <td>0</td>\n",
       "      <td>12</td>\n",
       "      <td>1057</td>\n",
       "    </tr>\n",
       "    <tr>\n",
       "      <th>4</th>\n",
       "      <td>1000002</td>\n",
       "      <td>P00285442</td>\n",
       "      <td>M</td>\n",
       "      <td>55+</td>\n",
       "      <td>16</td>\n",
       "      <td>C</td>\n",
       "      <td>4+</td>\n",
       "      <td>0</td>\n",
       "      <td>8</td>\n",
       "      <td>7969</td>\n",
       "    </tr>\n",
       "    <tr>\n",
       "      <th>...</th>\n",
       "      <td>...</td>\n",
       "      <td>...</td>\n",
       "      <td>...</td>\n",
       "      <td>...</td>\n",
       "      <td>...</td>\n",
       "      <td>...</td>\n",
       "      <td>...</td>\n",
       "      <td>...</td>\n",
       "      <td>...</td>\n",
       "      <td>...</td>\n",
       "    </tr>\n",
       "    <tr>\n",
       "      <th>550063</th>\n",
       "      <td>1006033</td>\n",
       "      <td>P00372445</td>\n",
       "      <td>M</td>\n",
       "      <td>51-55</td>\n",
       "      <td>13</td>\n",
       "      <td>B</td>\n",
       "      <td>1</td>\n",
       "      <td>1</td>\n",
       "      <td>20</td>\n",
       "      <td>368</td>\n",
       "    </tr>\n",
       "    <tr>\n",
       "      <th>550064</th>\n",
       "      <td>1006035</td>\n",
       "      <td>P00375436</td>\n",
       "      <td>F</td>\n",
       "      <td>26-35</td>\n",
       "      <td>1</td>\n",
       "      <td>C</td>\n",
       "      <td>3</td>\n",
       "      <td>0</td>\n",
       "      <td>20</td>\n",
       "      <td>371</td>\n",
       "    </tr>\n",
       "    <tr>\n",
       "      <th>550065</th>\n",
       "      <td>1006036</td>\n",
       "      <td>P00375436</td>\n",
       "      <td>F</td>\n",
       "      <td>26-35</td>\n",
       "      <td>15</td>\n",
       "      <td>B</td>\n",
       "      <td>4+</td>\n",
       "      <td>1</td>\n",
       "      <td>20</td>\n",
       "      <td>137</td>\n",
       "    </tr>\n",
       "    <tr>\n",
       "      <th>550066</th>\n",
       "      <td>1006038</td>\n",
       "      <td>P00375436</td>\n",
       "      <td>F</td>\n",
       "      <td>55+</td>\n",
       "      <td>1</td>\n",
       "      <td>C</td>\n",
       "      <td>2</td>\n",
       "      <td>0</td>\n",
       "      <td>20</td>\n",
       "      <td>365</td>\n",
       "    </tr>\n",
       "    <tr>\n",
       "      <th>550067</th>\n",
       "      <td>1006039</td>\n",
       "      <td>P00371644</td>\n",
       "      <td>F</td>\n",
       "      <td>46-50</td>\n",
       "      <td>0</td>\n",
       "      <td>B</td>\n",
       "      <td>4+</td>\n",
       "      <td>1</td>\n",
       "      <td>20</td>\n",
       "      <td>490</td>\n",
       "    </tr>\n",
       "  </tbody>\n",
       "</table>\n",
       "<p>550068 rows × 10 columns</p>\n",
       "</div>"
      ],
      "text/plain": [
       "        User_ID Product_ID Gender    Age  Occupation City_Category  \\\n",
       "0       1000001  P00069042      F   0-17          10             A   \n",
       "1       1000001  P00248942      F   0-17          10             A   \n",
       "2       1000001  P00087842      F   0-17          10             A   \n",
       "3       1000001  P00085442      F   0-17          10             A   \n",
       "4       1000002  P00285442      M    55+          16             C   \n",
       "...         ...        ...    ...    ...         ...           ...   \n",
       "550063  1006033  P00372445      M  51-55          13             B   \n",
       "550064  1006035  P00375436      F  26-35           1             C   \n",
       "550065  1006036  P00375436      F  26-35          15             B   \n",
       "550066  1006038  P00375436      F    55+           1             C   \n",
       "550067  1006039  P00371644      F  46-50           0             B   \n",
       "\n",
       "       Stay_In_Current_City_Years  Marital_Status  Product_Category  Purchase  \n",
       "0                               2               0                 3      8370  \n",
       "1                               2               0                 1     15200  \n",
       "2                               2               0                12      1422  \n",
       "3                               2               0                12      1057  \n",
       "4                              4+               0                 8      7969  \n",
       "...                           ...             ...               ...       ...  \n",
       "550063                          1               1                20       368  \n",
       "550064                          3               0                20       371  \n",
       "550065                         4+               1                20       137  \n",
       "550066                          2               0                20       365  \n",
       "550067                         4+               1                20       490  \n",
       "\n",
       "[550068 rows x 10 columns]"
      ]
     },
     "execution_count": 52,
     "metadata": {},
     "output_type": "execute_result"
    }
   ],
   "source": [
    "df"
   ]
  },
  {
   "cell_type": "code",
   "execution_count": null,
   "id": "6097daa0",
   "metadata": {},
   "outputs": [],
   "source": []
  },
  {
   "cell_type": "markdown",
   "id": "2cef4c73",
   "metadata": {},
   "source": [
    "Since we have only one countinous column we cannot buid corelation matrix"
   ]
  },
  {
   "cell_type": "code",
   "execution_count": null,
   "id": "fbde27d5",
   "metadata": {},
   "outputs": [],
   "source": [
    "\n",
    "\n",
    "    \n",
    "    "
   ]
  },
  {
   "cell_type": "markdown",
   "id": "5f534278",
   "metadata": {},
   "source": [
    "#### Cross tabs ( with respective to mean of purchace)"
   ]
  },
  {
   "cell_type": "code",
   "execution_count": 53,
   "id": "05da1df3",
   "metadata": {},
   "outputs": [],
   "source": [
    "def cross_tabs(x,y):\n",
    "    df_c_age_gender=pd.crosstab(df[x],df[y],values=df['Purchase'],aggfunc=np.mean,margins=True)\n",
    "    print(df_c_age_gender)\n",
    "    fig, ax = plt.subplots(figsize=(10, 8))\n",
    "    sns.heatmap(df_c_age_gender,cmap=\"YlGnBu\")"
   ]
  },
  {
   "cell_type": "code",
   "execution_count": 54,
   "id": "147b7a4f",
   "metadata": {},
   "outputs": [
    {
     "name": "stdout",
     "output_type": "stream",
     "text": [
      "Gender            F            M          All\n",
      "Age                                          \n",
      "0-17    8338.771985  9235.173670  8933.464640\n",
      "18-25   8343.180201  9440.942971  9169.663606\n",
      "26-35   8728.251754  9410.337578  9252.690633\n",
      "36-45   8959.844056  9453.193643  9331.350695\n",
      "46-50   8842.098947  9357.471509  9208.625697\n",
      "51-55   9042.449666  9705.094802  9534.808031\n",
      "55+     9007.036199  9438.195603  9336.280459\n",
      "All     8734.565765  9437.526040  9263.968713\n"
     ]
    },
    {
     "data": {
      "image/png": "[encoded data removed]",
      "text/plain": [
       "<Figure size 720x576 with 2 Axes>"
      ]
     },
     "metadata": {
      "needs_background": "light"
     },
     "output_type": "display_data"
    }
   ],
   "source": [
    "cross_tabs('Age','Gender')"
   ]
  },
  {
   "cell_type": "code",
   "execution_count": null,
   "id": "86bcffe7",
   "metadata": {},
   "outputs": [],
   "source": []
  },
  {
   "cell_type": "markdown",
   "id": "c72272bd",
   "metadata": {},
   "source": [
    "we can observer here that customer who's age is btw 51-55 and gender =male tends to have more purchase mean\n",
    "\n",
    "Pruchase mean(Male) > Purchace mean(Female)\n",
    "\n",
    "Pruchase mean(age=51-55) > then remaining catagoery\n",
    "\n",
    "\n",
    "\n"
   ]
  },
  {
   "cell_type": "code",
   "execution_count": 55,
   "id": "6db7013c",
   "metadata": {},
   "outputs": [
    {
     "name": "stdout",
     "output_type": "stream",
     "text": [
      "Occupation            0            1            2            3            4  \\\n",
      "Age                                                                           \n",
      "0-17        9305.183224  8751.248062  8416.319444          NaN  9431.964602   \n",
      "18-25       9167.149863  8524.334031  8443.224565  9846.722043  9153.604776   \n",
      "26-35       9113.090048  8961.626468  9161.169375  8906.152102  9337.273215   \n",
      "36-45       9356.152169  8856.423113  8719.387035  9280.210616  9414.961649   \n",
      "46-50       8391.753788  8991.659331  8957.813559  9483.148843  7781.914729   \n",
      "51-55       8954.350282  9366.317234  9276.491071  9050.461609  9335.269076   \n",
      "55+         9461.835075  9074.359350  9479.487685  9442.193350          NaN   \n",
      "All         9124.428588  8953.193270  8952.481683  9178.593088  9213.980251   \n",
      "\n",
      "Occupation             5            6             7             8  \\\n",
      "Age                                                                 \n",
      "0-17                 NaN          NaN  10509.791367  10485.862069   \n",
      "18-25       10037.702759  8396.458916   8894.561116   7737.357143   \n",
      "26-35        9447.950345  9241.864329   9252.979925  10512.060847   \n",
      "36-45        8889.509785  9532.839486   9419.520627   6688.438776   \n",
      "46-50        8478.474305  9406.490433   9607.381303   9704.191257   \n",
      "51-55       10828.307692  9086.876012   9951.579645   9023.652997   \n",
      "55+         15413.200000  9323.081818  10003.752771   9365.527950   \n",
      "All          9333.149298  9256.535691   9425.728223   9532.592497   \n",
      "\n",
      "Occupation            9  ...            12           13            14  \\\n",
      "Age                      ...                                            \n",
      "0-17                NaN  ...   8095.827004  8970.200000  11624.344086   \n",
      "18-25       8771.542039  ...   9897.944820          NaN   9123.637192   \n",
      "26-35       8349.282740  ...   9797.160678          NaN   9337.963707   \n",
      "36-45       8746.010982  ...   9742.664574  9527.646370   9975.593918   \n",
      "46-50       8682.647727  ...  10087.766760  7635.979398  10071.946713   \n",
      "51-55       8877.236181  ...   9642.756528  9724.249300  10389.155138   \n",
      "55+         8187.529412  ...   9154.223602  9351.239220   8950.928839   \n",
      "All         8637.743761  ...   9796.640239  9306.351061   9500.702772   \n",
      "\n",
      "Occupation            15           16            17           18           19  \\\n",
      "Age                                                                             \n",
      "0-17                 NaN          NaN  10401.028571          NaN  8549.653036   \n",
      "18-25       10624.453642  9229.897026  10264.782454  9147.540092  8859.068400   \n",
      "26-35        9591.972651  9058.853607   9846.795476  9559.067321  8585.604671   \n",
      "36-45        9790.425145  9752.947966   9552.746001  8829.324165  8959.566468   \n",
      "46-50        9848.736534  9379.450528   9752.035178  8841.854982  8120.570881   \n",
      "51-55       10846.690661  9450.198826  10883.478639  9390.875706  9794.480000   \n",
      "55+          9502.238426  9284.601121   8661.888960  8466.196429  8151.571429   \n",
      "All          9778.891163  9394.464349   9821.478236  9169.655844  8710.627231   \n",
      "\n",
      "Occupation            20          All  \n",
      "Age                                    \n",
      "0-17                 NaN  8933.464640  \n",
      "18-25        8461.383655  9169.663606  \n",
      "26-35        8763.913320  9252.690633  \n",
      "36-45        8992.289025  9331.350695  \n",
      "46-50        8347.963320  9208.625697  \n",
      "51-55        9340.664205  9534.808031  \n",
      "55+         10879.621723  9336.280459  \n",
      "All          8836.494905  9263.968713  \n",
      "\n",
      "[8 rows x 22 columns]\n"
     ]
    },
    {
     "data": {
      "image/png": "[encoded data removed]",
      "text/plain": [
       "<Figure size 720x576 with 2 Axes>"
      ]
     },
     "metadata": {
      "needs_background": "light"
     },
     "output_type": "display_data"
    }
   ],
   "source": [
    "cross_tabs('Age','Occupation')"
   ]
  },
  {
   "cell_type": "markdown",
   "id": "a51d36a4",
   "metadata": {},
   "source": [
    "age=55+ and occupation =5  have highest purchase mean\n"
   ]
  },
  {
   "cell_type": "code",
   "execution_count": 56,
   "id": "ea885a7c",
   "metadata": {},
   "outputs": [
    {
     "data": {
      "text/plain": [
       "Index(['User_ID', 'Product_ID', 'Gender', 'Age', 'Occupation', 'City_Category',\n",
       "       'Stay_In_Current_City_Years', 'Marital_Status', 'Product_Category',\n",
       "       'Purchase'],\n",
       "      dtype='object')"
      ]
     },
     "execution_count": 56,
     "metadata": {},
     "output_type": "execute_result"
    }
   ],
   "source": [
    "df.columns"
   ]
  },
  {
   "cell_type": "code",
   "execution_count": 57,
   "id": "4d42d958",
   "metadata": {},
   "outputs": [
    {
     "name": "stdout",
     "output_type": "stream",
     "text": [
      "City_Category            A            B            C          All\n",
      "Age                                                              \n",
      "0-17           8615.110456  8917.295308  9059.503299  8933.464640\n",
      "18-25          8833.734084  9031.706985  9696.570919  9169.663606\n",
      "26-35          8952.503004  9149.193178  9835.388993  9252.690633\n",
      "36-45          8990.333997  9107.901067  9882.012654  9331.350695\n",
      "46-50          8348.526752  9247.927129  9533.184023  9208.625697\n",
      "51-55          9508.505001  9340.911392  9780.380806  9534.808031\n",
      "55+            8485.945424  9803.560635  9385.316939  9336.280459\n",
      "All            8911.939216  9151.300563  9719.920993  9263.968713\n"
     ]
    },
    {
     "data": {
      "image/png": "[encoded data removed]",
      "text/plain": [
       "<Figure size 720x576 with 2 Axes>"
      ]
     },
     "metadata": {
      "needs_background": "light"
     },
     "output_type": "display_data"
    }
   ],
   "source": [
    "cross_tabs('Age','City_Category')"
   ]
  },
  {
   "cell_type": "markdown",
   "id": "0a1fa54e",
   "metadata": {},
   "source": [
    "City_cat=C has highest purchase mean then compared to rest of them\n",
    "\n",
    "Age=36-45 and city_cat =c has highest concentraion of purchase mean\n"
   ]
  },
  {
   "cell_type": "code",
   "execution_count": 58,
   "id": "1c1eec00",
   "metadata": {},
   "outputs": [
    {
     "name": "stdout",
     "output_type": "stream",
     "text": [
      "Marital_Status            0            1          All\n",
      "Age                                                  \n",
      "0-17            8933.464640          NaN  8933.464640\n",
      "18-25           9216.752419  8994.509992  9169.663606\n",
      "26-35           9252.566484  9252.882410  9252.690633\n",
      "36-45           9402.515329  9223.098451  9331.350695\n",
      "46-50           8956.529551  9305.535821  9208.625697\n",
      "51-55           9575.827475  9518.735088  9534.808031\n",
      "55+             9539.774959  9218.510315  9336.280459\n",
      "All             9265.907619  9261.174574  9263.968713\n"
     ]
    },
    {
     "data": {
      "image/png": "[encoded data removed]",
      "text/plain": [
       "<Figure size 720x576 with 2 Axes>"
      ]
     },
     "metadata": {
      "needs_background": "light"
     },
     "output_type": "display_data"
    }
   ],
   "source": [
    "cross_tabs('Age','Marital_Status')"
   ]
  },
  {
   "cell_type": "markdown",
   "id": "1af6ceab",
   "metadata": {},
   "source": [
    "purchase mean( marital =0) is nearly equal to purchase mean( matrial =1)\n",
    "\n",
    "marital=0 and age =51-55 have highest purchase mean"
   ]
  },
  {
   "cell_type": "code",
   "execution_count": null,
   "id": "70cd8b32",
   "metadata": {},
   "outputs": [],
   "source": []
  },
  {
   "cell_type": "code",
   "execution_count": 60,
   "id": "45ea1e91",
   "metadata": {},
   "outputs": [
    {
     "name": "stdout",
     "output_type": "stream",
     "text": [
      "Age                       0-17         18-25         26-35         36-45  \\\n",
      "Product_Category                                                           \n",
      "1                 13607.600279  13448.852904  13456.256056  13767.068287   \n",
      "2                 10851.982609  10966.741870  11083.914427  11375.946254   \n",
      "3                  9431.505000   9871.727601  10154.785043  10340.294240   \n",
      "4                  2244.659631   2194.358912   2340.182729   2400.508496   \n",
      "5                  6249.356120   6142.584040   6176.736014   6283.077612   \n",
      "6                 15982.842105  15768.623900  15758.713848  15803.359323   \n",
      "7                 15490.830189  16062.850312  16341.205330  16450.993820   \n",
      "8                  7632.767493   7387.642287   7400.653900   7528.592033   \n",
      "9                 15434.875000  17127.650794  15673.753247  14689.448598   \n",
      "10                20038.495495  19192.218905  19560.216004  19651.978138   \n",
      "11                 4808.166216   4597.116163   4677.053069   4762.744195   \n",
      "12                 1423.712000   1273.038724   1322.249088   1350.266600   \n",
      "13                  737.258929    701.903439    716.744752    719.819200   \n",
      "14                13134.025641  12704.517391  12781.127660  13523.483974   \n",
      "15                15984.587500  14358.240234  14525.945616  14966.862366   \n",
      "16                14635.951965  13993.362328  14698.257649  14968.702302   \n",
      "17                10143.833333   9476.487805   9829.015748  10111.229630   \n",
      "18                 2766.777778   2909.808260   3039.208253   2948.787749   \n",
      "19                   38.491525     36.047273     36.836590     37.025000   \n",
      "20                  368.011111    367.253731    376.505568    364.104743   \n",
      "All                8933.464640   9169.663606   9252.690633   9331.350695   \n",
      "\n",
      "Age                      46-50         51-55           55+           All  \n",
      "Product_Category                                                          \n",
      "1                 13778.098148  14125.773014  14065.121741  13606.218596  \n",
      "2                 11479.071734  11901.649635  12180.648619  11251.935384  \n",
      "3                 10261.654797  10327.424242  10166.398357  10096.705734  \n",
      "4                  2420.013131   2445.980826   2387.732704   2329.659491  \n",
      "5                  6372.036672   6502.194885   6463.649339   6240.088178  \n",
      "6                 15916.663379  16227.108276  16218.627610  15838.478550  \n",
      "7                 16619.957187  16376.913534  16942.664179  16365.689600  \n",
      "8                  7532.639452   7772.095824   7892.292043   7498.958078  \n",
      "9                 14759.393939  14576.689655  18626.375000  15537.375610  \n",
      "10                19654.736538  20530.747592  19828.285714  19675.570927  \n",
      "11                 4742.285171   4628.307270   4640.276292   4685.268456  \n",
      "12                 1383.450000   1380.413395   1431.038235   1350.859894  \n",
      "13                  730.704174    762.842650    738.362126    722.400613  \n",
      "14                13117.140940  14161.207792  13563.560000  13141.625739  \n",
      "15                14709.913621  16021.627953  14759.820961  14780.451828  \n",
      "16                15186.213879  15629.892857  15290.127321  14766.037037  \n",
      "17                10296.610526  10538.009346  10600.805970  10170.759516  \n",
      "18                 2896.242165   2964.732861   2993.800830   2972.864320  \n",
      "19                   37.053691     37.910448     38.893204     37.041797  \n",
      "20                  384.180617    361.800000    359.100000    370.481176  \n",
      "All                9208.625697   9534.808031   9336.280459   9263.968713  \n"
     ]
    },
    {
     "data": {
      "image/png": "[encoded data removed]",
      "text/plain": [
       "<Figure size 720x576 with 2 Axes>"
      ]
     },
     "metadata": {
      "needs_background": "light"
     },
     "output_type": "display_data"
    }
   ],
   "source": [
    "cross_tabs('Product_Category','Age')"
   ]
  },
  {
   "cell_type": "markdown",
   "id": "50dbaa86",
   "metadata": {},
   "source": [
    "### Outlier "
   ]
  },
  {
   "cell_type": "markdown",
   "id": "94ba8500",
   "metadata": {},
   "source": [
    "since purchase is the only countinous variable we will check that"
   ]
  },
  {
   "cell_type": "code",
   "execution_count": 61,
   "id": "077fa176",
   "metadata": {},
   "outputs": [],
   "source": [
    "def detetct_out(df,a):\n",
    "    q1=np.quantile(df[a],0.25)\n",
    "    q3=np.quantile(df[a],0.75)\n",
    "    low_end=q1-1.5*(q3-q1)\n",
    "    high_end=q3+1.5*(q3-q1)\n",
    "    b=df[df[a]>high_end][a].tolist()\n",
    "    c=df[df[a]<low_end][a].tolist()\n",
    "    b=set(b)\n",
    "    c=set(c)\n",
    "    print(\"Outliers\")\n",
    "    print(\"Outliers which has high values --->\",b)\n",
    "    print(\"---------------------------------------------------\")\n",
    "    print(\"Outliers which has low values --->\",c)"
   ]
  },
  {
   "cell_type": "code",
   "execution_count": 62,
   "id": "48274a71",
   "metadata": {},
   "outputs": [
    {
     "name": "stdout",
     "output_type": "stream",
     "text": [
      "Outliers\n",
      "Outliers which has high values ---> {23610, 23612, 23624, 23856, 23630, 22651, 22656, 22666, 22668, 22678, 22684, 22710, 22719, 22730, 22743, 23724, 22791, 22795, 22803, 23485, 22814, 22816, 22823, 22846, 22848, 22852, 22855, 22858, 22864, 22871, 21425, 22902, 22913, 22919, 22942, 22946, 22963, 22976, 22984, 22989, 22990, 22994, 21429, 23006, 23482, 23029, 23040, 23041, 23042, 23043, 23044, 23045, 23046, 23047, 23048, 23049, 23050, 23051, 23052, 23053, 23054, 23055, 23056, 23057, 23058, 23059, 23060, 23061, 23062, 23063, 23064, 23065, 23066, 23067, 23068, 23069, 23070, 23071, 23072, 23073, 23074, 23075, 23076, 23077, 23466, 23080, 23081, 23082, 23083, 23084, 23085, 23086, 23087, 23088, 23089, 23090, 23091, 23092, 23094, 23095, 23096, 23097, 23098, 23099, 23101, 23102, 23103, 23104, 23105, 23106, 23107, 23108, 23109, 23110, 23111, 23112, 23113, 23114, 23115, 23116, 23117, 23118, 23119, 23120, 23121, 23122, 23123, 23124, 23125, 23126, 23127, 23128, 23129, 23130, 23131, 23132, 23133, 23136, 23137, 23138, 23139, 23140, 23141, 23142, 23143, 23144, 23145, 23146, 23147, 23148, 23149, 23150, 23151, 23152, 23153, 23154, 23155, 23156, 23157, 23158, 23159, 23160, 23161, 23162, 23163, 23164, 23165, 23166, 23167, 23168, 23169, 23170, 23171, 23172, 23174, 23175, 23176, 23177, 23178, 23179, 23180, 23181, 23182, 23183, 23184, 23185, 23186, 23187, 23188, 23189, 23190, 23192, 23193, 23195, 23196, 23197, 23199, 23200, 23201, 23202, 23203, 23204, 23205, 23207, 23208, 23209, 23210, 23211, 23212, 23214, 23215, 23216, 23217, 23218, 23219, 23220, 23221, 23222, 23223, 23224, 23225, 23226, 23227, 23228, 23229, 23230, 21438, 23231, 23233, 23234, 23235, 23236, 23237, 23238, 23239, 23240, 23241, 23242, 23243, 23244, 23246, 23247, 23248, 23249, 23250, 23251, 23252, 23253, 23254, 23255, 23256, 23257, 23258, 23259, 23260, 23261, 23262, 23263, 23265, 23266, 23267, 23268, 23269, 23270, 23271, 23272, 23273, 23274, 23275, 23276, 23277, 23278, 23279, 23280, 23281, 23282, 23283, 23284, 23285, 23891, 23287, 23288, 23289, 23290, 23291, 23292, 23293, 23295, 23296, 23297, 23300, 23301, 23302, 23303, 23304, 23305, 23306, 23307, 23308, 23309, 23310, 21441, 23312, 23313, 23314, 23315, 23316, 23317, 23318, 23319, 23320, 23321, 23322, 23323, 23325, 23326, 23327, 23328, 23329, 23330, 23331, 23332, 23333, 23334, 23335, 23336, 23337, 23338, 23339, 23340, 23341, 23342, 23343, 23344, 23345, 23346, 23347, 23348, 23349, 23350, 23351, 23352, 23353, 23354, 23355, 23356, 23357, 23358, 23359, 23360, 23361, 23362, 23363, 23364, 23365, 23366, 23367, 23368, 23369, 23370, 23371, 23372, 23373, 23374, 23376, 23378, 23380, 23381, 23383, 23384, 23385, 23386, 23387, 23388, 23389, 23390, 23391, 23392, 23393, 23394, 23395, 23396, 23397, 23398, 23399, 23400, 23401, 23402, 23403, 23404, 23405, 23406, 23407, 23408, 23409, 23410, 21445, 23412, 23411, 23414, 23415, 23416, 23417, 23418, 23419, 23420, 23421, 23422, 23423, 23424, 23425, 23426, 23427, 23428, 23429, 23481, 23431, 23432, 23433, 23789, 23435, 23434, 23437, 23438, 23439, 23441, 23442, 23443, 23445, 23446, 23447, 23448, 23449, 21402, 23451, 21401, 23452, 23454, 23455, 23456, 23457, 21410, 21411, 23460, 21412, 23462, 21415, 23463, 21417, 21418, 21419, 21416, 21421, 23470, 21423, 21424, 23472, 21422, 23475, 23476, 21427, 21430, 23479, 23478, 21433, 21431, 21435, 23484, 21437, 21436, 23487, 21440, 23489, 23490, 23491, 23492, 23488, 23486, 21447, 23496, 23497, 21449, 23499, 21452, 21453, 23502, 23501, 21455, 21451, 23506, 23507, 23508, 23509, 23510, 23511, 23512, 21462, 21464, 23515, 21468, 21469, 23518, 23517, 21472, 23521, 21471, 21475, 23524, 21476, 23523, 23525, 23528, 21481, 21482, 23531, 21477, 23533, 23527, 21487, 23535, 21489, 21488, 23538, 23539, 23541, 21494, 21495, 23544, 23545, 23546, 23547, 21500, 23542, 23550, 21503, 21504, 21505, 23551, 21507, 23556, 23557, 23558, 21510, 23555, 21508, 23562, 21512, 23564, 23565, 21518, 21516, 23567, 21519, 21522, 21523, 21524, 21525, 23574, 21526, 21528, 21529, 21530, 23578, 23579, 23581, 23582, 21533, 21536, 23585, 23586, 23587, 21540, 23589, 21539, 21543, 21544, 23592, 21546, 23595, 23596, 23594, 23591, 23598, 23599, 23601, 21554, 23603, 23604, 21553, 21555, 23607, 23608, 21561, 23609, 21560, 21563, 21565, 23611, 21567, 23615, 21569, 23616, 21568, 23620, 23614, 23621, 23619, 23622, 23625, 23626, 23627, 23628, 23629, 23623, 23631, 23632, 23633, 23634, 23635, 23636, 23637, 23638, 23639, 23640, 23641, 23642, 23643, 23644, 23645, 23646, 23647, 23648, 23649, 23650, 23651, 23652, 23653, 23654, 23655, 23657, 23659, 23660, 23663, 23664, 23665, 23666, 23667, 23668, 23669, 23670, 23671, 23672, 23674, 23675, 23676, 23677, 23678, 23679, 23680, 23681, 23682, 23683, 23684, 23685, 23686, 23687, 23689, 23690, 23691, 23692, 23693, 23694, 23695, 23696, 23697, 23698, 23699, 23700, 23701, 23702, 23703, 23704, 23705, 23706, 23708, 23709, 23710, 23711, 23713, 23714, 23715, 23716, 23717, 23718, 23719, 23720, 21404, 23722, 23723, 23721, 23725, 21405, 23727, 23728, 23729, 23730, 23731, 23732, 23726, 23733, 23735, 21406, 23736, 23738, 23739, 23740, 23741, 23742, 23743, 21408, 23737, 23744, 23747, 23748, 23749, 23750, 23751, 23752, 23753, 23754, 23755, 23756, 23757, 23758, 23759, 23760, 23761, 23762, 23763, 23764, 23765, 23766, 23767, 23768, 23769, 23770, 23771, 23772, 23773, 23774, 23450, 23775, 23777, 23778, 23779, 23780, 23781, 23776, 23783, 23784, 23785, 23786, 23787, 23788, 23782, 23790, 23453, 23792, 23793, 23794, 23795, 23796, 23797, 23798, 23799, 23800, 23802, 23804, 23863, 23806, 23807, 23808, 23809, 23810, 23811, 23812, 23813, 23805, 23815, 23816, 23817, 23819, 23820, 23821, 23822, 23823, 23824, 23825, 23826, 23459, 23827, 23829, 23830, 23831, 23461, 23833, 23834, 23835, 23836, 23837, 23838, 23839, 23840, 23841, 23842, 23843, 23844, 21428, 23464, 23847, 23848, 23849, 23850, 23845, 23852, 23853, 23854, 23851, 23465, 23855, 23858, 23859, 23860, 23861, 23467, 23857, 23864, 23865, 23866, 23867, 23868, 23468, 23869, 23469, 23871, 23870, 23874, 23875, 23876, 23877, 23878, 23879, 23881, 23471, 23883, 23884, 23885, 23887, 23888, 23889, 23890, 23473, 23892, 23893, 23894, 23895, 23896, 23897, 21439, 23899, 23900, 23474, 23902, 23903, 23904, 23905, 23906, 23907, 23908, 23909, 23910, 23477, 23912, 23913, 23914, 23915, 23916, 21442, 23918, 23919, 23920, 23921, 21443, 23923, 23924, 21444, 23480, 23927, 23928, 23929, 23930, 23931, 23932, 23933, 23934, 23935, 23936, 21446, 23938, 23939, 23940, 23941, 23942, 23483, 23944, 21448, 23946, 23947, 23948, 23949, 23943, 23950, 23952, 23953, 23954, 21450, 23956, 23951, 23958, 23959, 23960, 23961, 23955, 23828, 21454, 23898, 21456, 23494, 21459, 23495, 21461, 23734, 23498, 21463, 21466, 21467, 23504, 23911, 23505, 21470, 21474, 23513, 21478, 23514, 21479, 23925, 23519, 23926, 21484, 23520, 21485, 21486, 23522, 21490, 21491, 21493, 23529, 23530, 23937, 23532, 21497, 23534, 21499, 21501, 23537, 21502, 23945, 23540, 21506, 23543, 21509, 21511, 23548, 21513, 23549, 21514, 21517, 23553, 23554, 21520, 21521, 23561, 23563, 23566, 21532, 23568, 23569, 21535, 23572, 21537, 21538, 23575, 23576, 21541, 23577, 21542, 23846, 23580, 21547, 21548, 23584, 21550, 21551, 21552, 23588, 23590, 21557, 23593, 21558, 21559, 21562, 21564, 23600, 21566, 23602, 21409, 23605}\n",
      "---------------------------------------------------\n",
      "Outliers which has low values ---> set()\n"
     ]
    }
   ],
   "source": [
    "detetct_out(df,'Purchase')"
   ]
  },
  {
   "cell_type": "code",
   "execution_count": null,
   "id": "84e2dcc0",
   "metadata": {},
   "outputs": [],
   "source": []
  },
  {
   "cell_type": "code",
   "execution_count": 63,
   "id": "bc3c2857",
   "metadata": {},
   "outputs": [
    {
     "data": {
      "text/plain": [
       "<AxesSubplot:xlabel='Purchase', ylabel='Gender'>"
      ]
     },
     "execution_count": 63,
     "metadata": {},
     "output_type": "execute_result"
    },
    {
     "data": {
      "image/png": "[encoded data removed]",
      "text/plain": [
       "<Figure size 432x288 with 1 Axes>"
      ]
     },
     "metadata": {
      "needs_background": "light"
     },
     "output_type": "display_data"
    }
   ],
   "source": [
    "sns.boxplot(x=df['Purchase'],y=df['Gender'])"
   ]
  },
  {
   "cell_type": "code",
   "execution_count": 64,
   "id": "7f626f1a",
   "metadata": {},
   "outputs": [
    {
     "data": {
      "text/plain": [
       "<AxesSubplot:xlabel='Purchase'>"
      ]
     },
     "execution_count": 64,
     "metadata": {},
     "output_type": "execute_result"
    },
    {
     "data": {
      "image/png": "[encoded data removed]",
      "text/plain": [
       "<Figure size 432x288 with 1 Axes>"
      ]
     },
     "metadata": {
      "needs_background": "light"
     },
     "output_type": "display_data"
    }
   ],
   "source": [
    "sns.boxplot(x=df['Purchase'])"
   ]
  },
  {
   "cell_type": "code",
   "execution_count": 65,
   "id": "f77ea9ab",
   "metadata": {},
   "outputs": [
    {
     "data": {
      "text/plain": [
       "<AxesSubplot:xlabel='Purchase', ylabel='Age'>"
      ]
     },
     "execution_count": 65,
     "metadata": {},
     "output_type": "execute_result"
    },
    {
     "data": {
      "image/png": "[encoded data removed]",
      "text/plain": [
       "<Figure size 432x288 with 1 Axes>"
      ]
     },
     "metadata": {
      "needs_background": "light"
     },
     "output_type": "display_data"
    }
   ],
   "source": [
    "sns.boxplot(x=df['Purchase'],y=df['Age'])"
   ]
  },
  {
   "cell_type": "code",
   "execution_count": 66,
   "id": "6481531d",
   "metadata": {},
   "outputs": [
    {
     "data": {
      "text/plain": [
       "<AxesSubplot:xlabel='Purchase', ylabel='City_Category'>"
      ]
     },
     "execution_count": 66,
     "metadata": {},
     "output_type": "execute_result"
    },
    {
     "data": {
      "image/png": "[encoded data removed]",
      "text/plain": [
       "<Figure size 432x288 with 1 Axes>"
      ]
     },
     "metadata": {
      "needs_background": "light"
     },
     "output_type": "display_data"
    }
   ],
   "source": [
    "sns.boxplot(x=df['Purchase'],y=df['City_Category'])"
   ]
  },
  {
   "cell_type": "code",
   "execution_count": null,
   "id": "79b6c158",
   "metadata": {},
   "outputs": [],
   "source": []
  },
  {
   "cell_type": "markdown",
   "id": "ca68ac59",
   "metadata": {},
   "source": [
    "#### Are women spending more money per transaction than men? Why or Why not?"
   ]
  },
  {
   "cell_type": "code",
   "execution_count": 67,
   "id": "7b5a3b0a",
   "metadata": {},
   "outputs": [],
   "source": [
    "df_male=df[df['Gender']=='M']\n",
    "df_fmale=df[df['Gender']=='F']"
   ]
  },
  {
   "cell_type": "code",
   "execution_count": null,
   "id": "f18ef3c0",
   "metadata": {},
   "outputs": [],
   "source": []
  },
  {
   "cell_type": "markdown",
   "id": "372f80f6",
   "metadata": {},
   "source": [
    "By this density graph we can say that males spend more moeny per transaction than female \n",
    "\n",
    "But these dist doesnt follow gaussian "
   ]
  },
  {
   "cell_type": "code",
   "execution_count": null,
   "id": "04dc874e",
   "metadata": {},
   "outputs": [],
   "source": []
  },
  {
   "cell_type": "code",
   "execution_count": 68,
   "id": "b880915b",
   "metadata": {},
   "outputs": [],
   "source": [
    "# this is the boot strap fuction which gives us the list_of_means\n",
    "def boot_strap(data,sample_size,no_of_samples):\n",
    "    list_of_means11 = []\n",
    "    for i in range(no_of_samples):\n",
    "        bootstrapped_samples = np.random.choice(data, size=sample_size)\n",
    "        list_of_means11.append(np.mean(bootstrapped_samples))\n",
    "    return list_of_means11"
   ]
  },
  {
   "cell_type": "code",
   "execution_count": 69,
   "id": "1f023216",
   "metadata": {},
   "outputs": [],
   "source": [
    "male_means=boot_strap(df_male['Purchase'],2000,2000)\n",
    "fmale_means=boot_strap(df_fmale['Purchase'],2000,2000)"
   ]
  },
  {
   "cell_type": "code",
   "execution_count": 70,
   "id": "a224563b",
   "metadata": {},
   "outputs": [
    {
     "data": {
      "image/png": "[encoded data removed]",
      "text/plain": [
       "<Figure size 430.5x360 with 1 Axes>"
      ]
     },
     "metadata": {
      "needs_background": "light"
     },
     "output_type": "display_data"
    }
   ],
   "source": [
    "a=sns.displot({'male':male_means,'female':fmale_means},kind='kde')"
   ]
  },
  {
   "cell_type": "markdown",
   "id": "d017b2af",
   "metadata": {},
   "source": [
    "Seeing above plot we can say that mean_purchase_amount_per_trans(female)<mean_purchase_amount_per_trans(male)\n",
    "\n",
    "for sample size=2000\n",
    "\n",
    "These data are for each transactions "
   ]
  },
  {
   "cell_type": "code",
   "execution_count": null,
   "id": "859dc6d0",
   "metadata": {},
   "outputs": [],
   "source": []
  },
  {
   "cell_type": "markdown",
   "id": "681cabf9",
   "metadata": {},
   "source": [
    "#### Confidence intervals and distribution of the mean of the expenses by female and male customers "
   ]
  },
  {
   "cell_type": "code",
   "execution_count": 71,
   "id": "41e75d4d",
   "metadata": {},
   "outputs": [],
   "source": [
    "df_male_expense=df"
   ]
  },
  {
   "cell_type": "code",
   "execution_count": 72,
   "id": "a39c56ed",
   "metadata": {},
   "outputs": [],
   "source": [
    "#total expense of each user\n",
    "# filter by gender and group by userid  agg as purchase mean\n",
    "#this data is for each customers\n",
    "df_male_agg=pd.DataFrame(df_male.groupby(df['User_ID'])['Purchase'].mean()).reset_index()\n",
    "df_fmale_agg=pd.DataFrame(df_fmale.groupby(df['User_ID'])['Purchase'].mean()).reset_index()\n"
   ]
  },
  {
   "cell_type": "code",
   "execution_count": 73,
   "id": "9f4b9fbc",
   "metadata": {},
   "outputs": [
    {
     "data": {
      "text/plain": [
       "9806.867524226633"
      ]
     },
     "execution_count": 73,
     "metadata": {},
     "output_type": "execute_result"
    }
   ],
   "source": [
    "df_male_agg['Purchase'].mean()"
   ]
  },
  {
   "cell_type": "code",
   "execution_count": 74,
   "id": "10ba7791",
   "metadata": {},
   "outputs": [
    {
     "data": {
      "text/plain": [
       "8965.198463936456"
      ]
     },
     "execution_count": 74,
     "metadata": {},
     "output_type": "execute_result"
    }
   ],
   "source": [
    "df_fmale_agg['Purchase'].mean()"
   ]
  },
  {
   "cell_type": "code",
   "execution_count": 75,
   "id": "1bf8a8e9",
   "metadata": {},
   "outputs": [
    {
     "data": {
      "image/png": "[encoded data removed]",
      "text/plain": [
       "<Figure size 430.5x360 with 1 Axes>"
      ]
     },
     "metadata": {
      "needs_background": "light"
     },
     "output_type": "display_data"
    }
   ],
   "source": [
    "a=sns.displot({'male':df_male_agg['Purchase'],'female':df_fmale_agg['Purchase']},kind='kde')"
   ]
  },
  {
   "cell_type": "code",
   "execution_count": 76,
   "id": "fbc97cf3",
   "metadata": {},
   "outputs": [],
   "source": [
    "male_means_agg=boot_strap(df_male_agg['Purchase'],1000,1000)\n",
    "fmale_means_agg=boot_strap(df_fmale_agg['Purchase'],1000,1000)"
   ]
  },
  {
   "cell_type": "code",
   "execution_count": 77,
   "id": "30e4cced",
   "metadata": {},
   "outputs": [
    {
     "data": {
      "image/png": "[encoded data removed]",
      "text/plain": [
       "<Figure size 430.5x360 with 1 Axes>"
      ]
     },
     "metadata": {
      "needs_background": "light"
     },
     "output_type": "display_data"
    }
   ],
   "source": [
    "a=sns.displot({'male':male_means_agg,'female':fmale_means_agg},kind='kde')"
   ]
  },
  {
   "cell_type": "code",
   "execution_count": 78,
   "id": "190bd0de",
   "metadata": {},
   "outputs": [
    {
     "data": {
      "text/plain": [
       "8964.14790818968"
      ]
     },
     "execution_count": 78,
     "metadata": {},
     "output_type": "execute_result"
    }
   ],
   "source": [
    "np.mean(fmale_means_agg)\n"
   ]
  },
  {
   "cell_type": "code",
   "execution_count": 79,
   "id": "ea62609f",
   "metadata": {},
   "outputs": [
    {
     "data": {
      "text/plain": [
       "9808.562081287442"
      ]
     },
     "execution_count": 79,
     "metadata": {},
     "output_type": "execute_result"
    }
   ],
   "source": [
    "np.mean(male_means_agg)"
   ]
  },
  {
   "cell_type": "markdown",
   "id": "27113092",
   "metadata": {},
   "source": [
    "Seeing above plot we can say that mean_expense(female)<mean_expense(male)"
   ]
  },
  {
   "cell_type": "code",
   "execution_count": 80,
   "id": "4fd59a9b",
   "metadata": {},
   "outputs": [],
   "source": [
    "#this gives a confidnce interval\n",
    "def Confidance_interverl(list_ofmeans,left_val,right_val):\n",
    "    left = np.percentile(list_ofmeans, 2.5)\n",
    "    right = np.percentile(list_ofmeans, 97.5)\n",
    "    return left,right"
   ]
  },
  {
   "cell_type": "code",
   "execution_count": 81,
   "id": "a1387abf",
   "metadata": {},
   "outputs": [],
   "source": [
    "def Boot_Strap_Main(data,sample_size,no_of_samples,CI_left,CI_right):\n",
    "    list_of_means=boot_strap(data,sample_size,no_of_samples)\n",
    "    left,right=Confidance_interverl(list_of_means,CI_left,CI_right)\n",
    "    diff_left_right=right-left\n",
    "    print(\"Sample Size =\",sample_size)\n",
    "    print(\"no_of_samples =\",no_of_samples)\n",
    "    print(\"Confidence interval: \", [left, right])\n",
    "    print(\"difference\",diff_left_right)\n",
    "    return diff_left_right,left,right,list_of_means\n",
    "    #sns.histplot(list_of_means)"
   ]
  },
  {
   "cell_type": "markdown",
   "id": "468d0cf6",
   "metadata": {},
   "source": [
    "####  confidence Interval for CI=95 \n"
   ]
  },
  {
   "cell_type": "code",
   "execution_count": 82,
   "id": "ae526c23",
   "metadata": {},
   "outputs": [
    {
     "name": "stdout",
     "output_type": "stream",
     "text": [
      "Sample Size = 1000\n",
      "no_of_samples = 1000\n",
      "Confidence interval:  [9695.785767042229, 9933.130500112686]\n",
      "difference 237.34473307045664\n"
     ]
    }
   ],
   "source": [
    "#male \n",
    "\n",
    "diff_left_right,left,right,list_of_means=Boot_Strap_Main(df_male_agg['Purchase'],sample_size=1000,no_of_samples=1000,CI_left=2.5,CI_right=97.5)"
   ]
  },
  {
   "cell_type": "code",
   "execution_count": 83,
   "id": "860a089e",
   "metadata": {},
   "outputs": [
    {
     "name": "stdout",
     "output_type": "stream",
     "text": [
      "Sample Size = 2000\n",
      "no_of_samples = 2000\n",
      "Confidence interval:  [9724.77720180956, 9895.708049377508]\n",
      "difference 170.93084756794815\n"
     ]
    }
   ],
   "source": [
    "#male \n",
    "\n",
    "diff_left_right,left,right,list_of_means=Boot_Strap_Main(df_male_agg['Purchase'],sample_size=2000,no_of_samples=2000,CI_left=2.5,CI_right=97.5)"
   ]
  },
  {
   "cell_type": "code",
   "execution_count": 84,
   "id": "8594866f",
   "metadata": {},
   "outputs": [
    {
     "name": "stdout",
     "output_type": "stream",
     "text": [
      "Sample Size = 3000\n",
      "no_of_samples = 3000\n",
      "Confidence interval:  [9740.976465217387, 9876.401658896211]\n",
      "difference 135.42519367882414\n"
     ]
    }
   ],
   "source": [
    "#male \n",
    "\n",
    "diff_left_right,left,right,list_of_means=Boot_Strap_Main(df_male_agg['Purchase'],sample_size=3000,no_of_samples=3000,CI_left=2.5,CI_right=97.5)"
   ]
  },
  {
   "cell_type": "code",
   "execution_count": 85,
   "id": "950021f1",
   "metadata": {},
   "outputs": [
    {
     "name": "stdout",
     "output_type": "stream",
     "text": [
      "Sample Size = 1000\n",
      "no_of_samples = 1000\n",
      "Confidence interval:  [8865.583416769196, 9072.401911990624]\n",
      "difference 206.81849522142875\n"
     ]
    }
   ],
   "source": [
    "#female\n",
    "\n",
    "diff_left_right,left,right,list_of_means=Boot_Strap_Main(df_fmale_agg['Purchase'],sample_size=1000,no_of_samples=1000,CI_left=2.5,CI_right=97.5)"
   ]
  },
  {
   "cell_type": "code",
   "execution_count": 86,
   "id": "d56c27f1",
   "metadata": {},
   "outputs": [
    {
     "name": "stdout",
     "output_type": "stream",
     "text": [
      "Sample Size = 2000\n",
      "no_of_samples = 2000\n",
      "Confidence interval:  [8893.002292525807, 9039.765151241858]\n",
      "difference 146.7628587160507\n"
     ]
    }
   ],
   "source": [
    "#female\n",
    "\n",
    "diff_left_right,left,right,list_of_means=Boot_Strap_Main(df_fmale_agg['Purchase'],sample_size=2000,no_of_samples=2000,CI_left=2.5,CI_right=97.5)"
   ]
  },
  {
   "cell_type": "code",
   "execution_count": 87,
   "id": "bf5b4762",
   "metadata": {},
   "outputs": [
    {
     "name": "stdout",
     "output_type": "stream",
     "text": [
      "Sample Size = 3000\n",
      "no_of_samples = 3000\n",
      "Confidence interval:  [8905.464480920102, 9025.165019475422]\n",
      "difference 119.70053855532024\n"
     ]
    }
   ],
   "source": [
    "#female\n",
    "\n",
    "diff_left_right,left,right,list_of_means=Boot_Strap_Main(df_fmale_agg['Purchase'],sample_size=3000,no_of_samples=3000,CI_left=2.5,CI_right=97.5)"
   ]
  },
  {
   "cell_type": "markdown",
   "id": "59a32b32",
   "metadata": {},
   "source": [
    "As the sample size increase the range of the CI will become shorter \n"
   ]
  },
  {
   "cell_type": "markdown",
   "id": "ffbacf74",
   "metadata": {},
   "source": [
    "#### confidence Interval for CI=90"
   ]
  },
  {
   "cell_type": "code",
   "execution_count": 88,
   "id": "3c87d157",
   "metadata": {},
   "outputs": [
    {
     "name": "stdout",
     "output_type": "stream",
     "text": [
      "Sample Size = 1000\n",
      "no_of_samples = 1000\n",
      "Confidence interval:  [9697.242159777115, 9922.12545115513]\n",
      "difference 224.8832913780152\n"
     ]
    }
   ],
   "source": [
    "#male \n",
    "\n",
    "diff_left_right,left,right,list_of_means=Boot_Strap_Main(df_male_agg['Purchase'],sample_size=1000,no_of_samples=1000,CI_left=5,CI_right=95)\n"
   ]
  },
  {
   "cell_type": "code",
   "execution_count": 89,
   "id": "1ae94c45",
   "metadata": {},
   "outputs": [
    {
     "name": "stdout",
     "output_type": "stream",
     "text": [
      "Sample Size = 2000\n",
      "no_of_samples = 2000\n",
      "Confidence interval:  [9722.906920377265, 9890.760087585371]\n",
      "difference 167.85316720810624\n"
     ]
    }
   ],
   "source": [
    "#male \n",
    "\n",
    "diff_left_right,left,right,list_of_means=Boot_Strap_Main(df_male_agg['Purchase'],sample_size=2000,no_of_samples=2000,CI_left=5,CI_right=95)\n"
   ]
  },
  {
   "cell_type": "code",
   "execution_count": 90,
   "id": "9706448c",
   "metadata": {},
   "outputs": [
    {
     "name": "stdout",
     "output_type": "stream",
     "text": [
      "Sample Size = 1000\n",
      "no_of_samples = 1000\n",
      "Confidence interval:  [8863.905741319242, 9072.589449924466]\n",
      "difference 208.68370860522373\n"
     ]
    }
   ],
   "source": [
    "#female\n",
    "\n",
    "diff_left_right,left,right,list_of_means=Boot_Strap_Main(df_fmale_agg['Purchase'],sample_size=1000,no_of_samples=1000,CI_left=5,CI_right=95)"
   ]
  },
  {
   "cell_type": "code",
   "execution_count": 91,
   "id": "a2945c18",
   "metadata": {},
   "outputs": [
    {
     "name": "stdout",
     "output_type": "stream",
     "text": [
      "Sample Size = 2000\n",
      "no_of_samples = 2000\n",
      "Confidence interval:  [8891.516362658947, 9038.795940008627]\n",
      "difference 147.27957734968004\n"
     ]
    }
   ],
   "source": [
    "#female\n",
    "\n",
    "diff_left_right,left,right,list_of_means=Boot_Strap_Main(df_fmale_agg['Purchase'],sample_size=2000,no_of_samples=2000,CI_left=5,CI_right=95)"
   ]
  },
  {
   "cell_type": "markdown",
   "id": "1d7b455a",
   "metadata": {},
   "source": [
    "From the above bootstrap experiment we can say that \n",
    "\n",
    "expense_of_male>expense_of_fmale\n",
    "\n",
    "We have gving CI for different sample sizes and diff no_of_sample\n",
    "\n",
    "FOR EXMP:\n",
    "\n",
    "Sample Size = 2000\n",
    "no_of_samples = 2000\n",
    "Confidence interval:  [8893.661760614004, 9042.044923426136]\n",
    "difference 148.38316281213156\n",
    "\n",
    "we are 95% condifence that the population of female expense lie btween [8893.661760614004, 9042.044923426136] "
   ]
  },
  {
   "cell_type": "markdown",
   "id": "c87ce9a0",
   "metadata": {},
   "source": [
    "####  Are confidence intervals of average male and female spending overlapping? How can Walmart leverage this conclusion to make changes or improvements?"
   ]
  },
  {
   "cell_type": "markdown",
   "id": "fbe0f0cf",
   "metadata": {},
   "source": [
    "male:\n",
    "\n",
    "Sample Size = 1000\n",
    "\n",
    "no_of_samples = 1000\n",
    "\n",
    "Confidence interval:  [9691.280523604808, 9923.624993824715]\n",
    "\n",
    "difference 232.34447021990673\n",
    "\n",
    "\n",
    "\n",
    "Sample Size = 2000\n",
    "\n",
    "no_of_samples = 2000\n",
    "\n",
    "Confidence interval:  [9725.1728787738, 9889.376693510063]\n",
    "\n",
    "difference 164.20381473626367\n",
    "\n",
    "\n",
    "female:\n",
    "\n",
    "Sample Size = 1000\n",
    "\n",
    "no_of_samples = 1000\n",
    "\n",
    "Confidence interval:  [8860.035528719416, 9068.177174773075]\n",
    "\n",
    "difference 208.1416460536584\n",
    "\n",
    "\n",
    "Sample Size = 2000\n",
    "\n",
    "no_of_samples = 2000\n",
    "\n",
    "Confidence interval:  [8893.661760614004, 9042.044923426136]\n",
    "\n",
    "difference 148.38316281213156\n",
    "\n",
    "\n",
    "\n",
    "we see here that CI of avg male and avg female spending does not over lap \n",
    "\n",
    "the spending habbits of males and females are different\n",
    "\n",
    "walmart should show diff offers for males and diff for females customers\n"
   ]
  },
  {
   "cell_type": "code",
   "execution_count": null,
   "id": "c747dbb6",
   "metadata": {},
   "outputs": [],
   "source": []
  },
  {
   "cell_type": "markdown",
   "id": "1b47dd99",
   "metadata": {},
   "source": [
    "#### Results when the same activity is performed for Married vs Unmarried  "
   ]
  },
  {
   "cell_type": "code",
   "execution_count": null,
   "id": "7314e7b6",
   "metadata": {},
   "outputs": [],
   "source": []
  },
  {
   "cell_type": "code",
   "execution_count": 92,
   "id": "1b9417c7",
   "metadata": {},
   "outputs": [],
   "source": [
    "df_unmarried=df[df['Marital_Status']==0]\n",
    "df_married=df[df['Marital_Status']==1]"
   ]
  },
  {
   "cell_type": "code",
   "execution_count": 93,
   "id": "35def62a",
   "metadata": {},
   "outputs": [
    {
     "data": {
      "text/plain": [
       "9265.907618921507"
      ]
     },
     "execution_count": 93,
     "metadata": {},
     "output_type": "execute_result"
    }
   ],
   "source": [
    "df_unmarried['Purchase'].mean()"
   ]
  },
  {
   "cell_type": "code",
   "execution_count": 94,
   "id": "3642b555",
   "metadata": {},
   "outputs": [
    {
     "data": {
      "text/plain": [
       "9261.174574082374"
      ]
     },
     "execution_count": 94,
     "metadata": {},
     "output_type": "execute_result"
    }
   ],
   "source": [
    "df_married['Purchase'].mean()"
   ]
  },
  {
   "cell_type": "code",
   "execution_count": 95,
   "id": "869d73ea",
   "metadata": {},
   "outputs": [
    {
     "data": {
      "image/png": "[encoded data removed]",
      "text/plain": [
       "<Figure size 457x360 with 1 Axes>"
      ]
     },
     "metadata": {
      "needs_background": "light"
     },
     "output_type": "display_data"
    }
   ],
   "source": [
    "a=sns.displot({'UNMARRIED':df_unmarried['Purchase'],'MARRIED':df_married['Purchase']},kind='kde')"
   ]
  },
  {
   "cell_type": "markdown",
   "id": "53ccc37d",
   "metadata": {},
   "source": [
    "By this density graph we cannot say that unmarried spend more money per transaction than married"
   ]
  },
  {
   "cell_type": "code",
   "execution_count": 96,
   "id": "95e714e4",
   "metadata": {},
   "outputs": [],
   "source": [
    "# this is the boot strap fuction which gives us the list_of_means\n",
    "def boot_strap(data,sample_size,no_of_samples):\n",
    "    list_of_means11 = []\n",
    "    for i in range(no_of_samples):\n",
    "        bootstrapped_samples = np.random.choice(data, size=sample_size)\n",
    "        list_of_means11.append(np.mean(bootstrapped_samples))\n",
    "    return list_of_means11"
   ]
  },
  {
   "cell_type": "code",
   "execution_count": 97,
   "id": "a8900417",
   "metadata": {},
   "outputs": [],
   "source": [
    "unmarried_df=boot_strap(df_unmarried['Purchase'],1000,1000)\n",
    "married_df=boot_strap(df_married['Purchase'],1000,1000)"
   ]
  },
  {
   "cell_type": "code",
   "execution_count": 98,
   "id": "c0ab042f",
   "metadata": {},
   "outputs": [
    {
     "data": {
      "image/png": "[encoded data removed]",
      "text/plain": [
       "<Figure size 457x360 with 1 Axes>"
      ]
     },
     "metadata": {
      "needs_background": "light"
     },
     "output_type": "display_data"
    }
   ],
   "source": [
    "a=sns.displot({'UNMARRIED':unmarried_df,'MARRIED':married_df},kind='kde')"
   ]
  },
  {
   "cell_type": "markdown",
   "id": "e7a78082",
   "metadata": {},
   "source": [
    "both married and unmarried have mean_purchase_per_trans\n",
    "\n",
    "their spending habbits are all most same"
   ]
  },
  {
   "cell_type": "code",
   "execution_count": 99,
   "id": "cada2d08",
   "metadata": {},
   "outputs": [],
   "source": [
    "#total expense of each user\n",
    "# filter by marital and group by userid  agg as purchase mean\n",
    "#this data is for each customers\n",
    "df_married_agg=pd.DataFrame(df_married.groupby(df['User_ID'])['Purchase'].mean()).reset_index()\n",
    "df_unmarried_agg=pd.DataFrame(df_unmarried.groupby(df['User_ID'])['Purchase'].mean()).reset_index()\n"
   ]
  },
  {
   "cell_type": "code",
   "execution_count": 100,
   "id": "5cdee526",
   "metadata": {},
   "outputs": [
    {
     "data": {
      "text/plain": [
       "9574.96229903175"
      ]
     },
     "execution_count": 100,
     "metadata": {},
     "output_type": "execute_result"
    }
   ],
   "source": [
    "df_married_agg['Purchase'].mean()"
   ]
  },
  {
   "cell_type": "code",
   "execution_count": 101,
   "id": "b96a0ede",
   "metadata": {},
   "outputs": [
    {
     "data": {
      "text/plain": [
       "9564.407141636288"
      ]
     },
     "execution_count": 101,
     "metadata": {},
     "output_type": "execute_result"
    }
   ],
   "source": [
    "df_unmarried_agg['Purchase'].mean()"
   ]
  },
  {
   "cell_type": "code",
   "execution_count": 102,
   "id": "f4b3f316",
   "metadata": {},
   "outputs": [
    {
     "data": {
      "image/png": "[encoded data removed]",
      "text/plain": [
       "<Figure size 449x360 with 1 Axes>"
      ]
     },
     "metadata": {
      "needs_background": "light"
     },
     "output_type": "display_data"
    }
   ],
   "source": [
    "a=sns.displot({'Unmarried':df_unmarried_agg['Purchase'],'married':df_married_agg['Purchase']},kind='kde')"
   ]
  },
  {
   "cell_type": "code",
   "execution_count": 103,
   "id": "414a6b3e",
   "metadata": {},
   "outputs": [],
   "source": [
    "unmarried_means_agg=boot_strap(df_unmarried['Purchase'],1000,1000)\n",
    "married_means_agg=boot_strap(df_married['Purchase'],1000,1000)"
   ]
  },
  {
   "cell_type": "code",
   "execution_count": 104,
   "id": "588b089a",
   "metadata": {},
   "outputs": [
    {
     "data": {
      "image/png": "[encoded data removed]",
      "text/plain": [
       "<Figure size 448x360 with 1 Axes>"
      ]
     },
     "metadata": {
      "needs_background": "light"
     },
     "output_type": "display_data"
    }
   ],
   "source": [
    "a=sns.displot({'unmarried':unmarried_means_agg,'married':married_means_agg},kind='kde')"
   ]
  },
  {
   "cell_type": "markdown",
   "id": "d76ea6c2",
   "metadata": {},
   "source": [
    "####  confidence Interval for CI=95 "
   ]
  },
  {
   "cell_type": "code",
   "execution_count": 105,
   "id": "b44a3df8",
   "metadata": {},
   "outputs": [
    {
     "name": "stdout",
     "output_type": "stream",
     "text": [
      "Sample Size = 1000\n",
      "no_of_samples = 1000\n",
      "Confidence interval:  [9453.970767662451, 9680.16655655537]\n",
      "difference 226.19578889291915\n"
     ]
    }
   ],
   "source": [
    "#unmarried\n",
    "\n",
    "diff_left_right,left,right,list_of_means=Boot_Strap_Main(df_unmarried_agg['Purchase'],sample_size=1000,no_of_samples=1000,CI_left=2.5,CI_right=97.5)"
   ]
  },
  {
   "cell_type": "code",
   "execution_count": 106,
   "id": "0cc269f5",
   "metadata": {},
   "outputs": [
    {
     "name": "stdout",
     "output_type": "stream",
     "text": [
      "Sample Size = 2000\n",
      "no_of_samples = 2000\n",
      "Confidence interval:  [9480.19275685655, 9647.901860109312]\n",
      "difference 167.70910325276236\n"
     ]
    }
   ],
   "source": [
    "#unmarried\n",
    "\n",
    "diff_left_right,left,right,list_of_means=Boot_Strap_Main(df_unmarried_agg['Purchase'],sample_size=2000,no_of_samples=2000,CI_left=2.5,CI_right=97.5)"
   ]
  },
  {
   "cell_type": "code",
   "execution_count": 107,
   "id": "0a33a184",
   "metadata": {},
   "outputs": [
    {
     "name": "stdout",
     "output_type": "stream",
     "text": [
      "Sample Size = 1000\n",
      "no_of_samples = 1000\n",
      "Confidence interval:  [9450.577918379573, 9693.48242479901]\n",
      "difference 242.90450641943607\n"
     ]
    }
   ],
   "source": [
    "#married\n",
    "\n",
    "diff_left_right,left,right,list_of_means=Boot_Strap_Main(df_married_agg['Purchase'],sample_size=1000,no_of_samples=1000,CI_left=2.5,CI_right=97.5)"
   ]
  },
  {
   "cell_type": "code",
   "execution_count": 108,
   "id": "26045078",
   "metadata": {},
   "outputs": [
    {
     "name": "stdout",
     "output_type": "stream",
     "text": [
      "Sample Size = 2000\n",
      "no_of_samples = 2000\n",
      "Confidence interval:  [9492.45794465459, 9660.311567213]\n",
      "difference 167.85362255841028\n"
     ]
    }
   ],
   "source": [
    "#married\n",
    "\n",
    "diff_left_right,left,right,list_of_means=Boot_Strap_Main(df_married_agg['Purchase'],sample_size=2000,no_of_samples=2000,CI_left=2.5,CI_right=97.5)"
   ]
  },
  {
   "cell_type": "markdown",
   "id": "89f392f8",
   "metadata": {},
   "source": [
    "From the above bootstrapping we can say that expense of both married and unmarried are having same dristribution\n",
    "\n",
    "Popultion mean of married people lie in [9492.437336895322, 9655.03598509862] with Confidence of 95%\n",
    "\n",
    "Popultion mean of unmarried people lie in [9480.699752043949, 9646.014401806344] with Confidence of 95%\n",
    "\n",
    "we see that there is clear overlapping btw the two dirstibution , which means these people are having same spending pattern\n",
    "\n",
    "Walmart can send same offers or products to these segments "
   ]
  },
  {
   "cell_type": "code",
   "execution_count": null,
   "id": "a9f4bcdb",
   "metadata": {},
   "outputs": [],
   "source": []
  },
  {
   "cell_type": "markdown",
   "id": "2685f14e",
   "metadata": {},
   "source": [
    "### Results when the same activity is performed for Age"
   ]
  },
  {
   "cell_type": "code",
   "execution_count": 109,
   "id": "d55e956c",
   "metadata": {},
   "outputs": [
    {
     "data": {
      "text/plain": [
       "array(['0-17', '55+', '26-35', '46-50', '51-55', '36-45', '18-25'],\n",
       "      dtype=object)"
      ]
     },
     "execution_count": 109,
     "metadata": {},
     "output_type": "execute_result"
    }
   ],
   "source": [
    "df['Age'].unique()"
   ]
  },
  {
   "cell_type": "code",
   "execution_count": 110,
   "id": "d45b6ddf",
   "metadata": {},
   "outputs": [],
   "source": [
    "df_age_0_17=df[df['Age']=='0-17']\n",
    "df_age_18_25=df[df['Age']=='18-25']\n",
    "df_age_26_35=df[df['Age']=='26-35']\n",
    "df_age_36_45=df[df['Age']=='36-45']\n",
    "df_age_46_50=df[df['Age']=='46-50']\n",
    "df_age_51_55=  df[df['Age']=='51-55']\n",
    "df_age_55plus=df[df['Age']=='55+']"
   ]
  },
  {
   "cell_type": "code",
   "execution_count": 111,
   "id": "10187e24",
   "metadata": {},
   "outputs": [],
   "source": [
    "d={'0-17':df_age_0_17['Purchase'],'18-25':df_age_18_25['Purchase'],'26_35':df_age_26_35['Purchase'],'36-45':df_age_36_45['Purchase'],'46-50':df_age_46_50['Purchase'],'51-50':df_age_51_55['Purchase'],'50+':df_age_55plus['Purchase']}"
   ]
  },
  {
   "cell_type": "code",
   "execution_count": 112,
   "id": "aca32132",
   "metadata": {},
   "outputs": [
    {
     "data": {
      "image/png": "[encoded data removed]",
      "text/plain": [
       "<Figure size 426.5x360 with 1 Axes>"
      ]
     },
     "metadata": {
      "needs_background": "light"
     },
     "output_type": "display_data"
    }
   ],
   "source": [
    "a=sns.displot(d,kind='kde')"
   ]
  },
  {
   "cell_type": "markdown",
   "id": "ad91abcb",
   "metadata": {},
   "source": [
    "By this density we cannot conclude anything for now"
   ]
  },
  {
   "cell_type": "code",
   "execution_count": 113,
   "id": "2a6a51ea",
   "metadata": {},
   "outputs": [],
   "source": [
    "df_age_0_17_df=boot_strap(df_age_0_17['Purchase'],1000,1000)\n",
    "df_age_18_25_df=boot_strap(df_age_18_25['Purchase'],1000,1000)\n",
    "df_age_26_35_df=boot_strap(df_age_26_35['Purchase'],1000,1000)\n",
    "df_age_36_45_df=boot_strap(df_age_36_45['Purchase'],1000,1000)\n",
    "df_age_46_50_df=boot_strap(df_age_46_50['Purchase'],1000,1000)\n",
    "df_age_51_55_df=boot_strap(df_age_51_55['Purchase'],1000,1000)\n",
    "df_age_55plus_df=boot_strap(df_age_55plus['Purchase'],1000,1000)"
   ]
  },
  {
   "cell_type": "code",
   "execution_count": 114,
   "id": "0efefe8c",
   "metadata": {},
   "outputs": [],
   "source": [
    "d1={'0-17':df_age_0_17_df,'18-25':df_age_18_25_df,'26_35':df_age_26_35_df,'36-45':df_age_36_45_df,'46-50':df_age_46_50_df,'51-50':df_age_51_55_df,'50+':df_age_55plus_df}"
   ]
  },
  {
   "cell_type": "code",
   "execution_count": 115,
   "id": "16189c00",
   "metadata": {},
   "outputs": [
    {
     "data": {
      "text/plain": [
       "<seaborn.axisgrid.FacetGrid at 0x1e551d838e0>"
      ]
     },
     "execution_count": 115,
     "metadata": {},
     "output_type": "execute_result"
    },
    {
     "data": {
      "image/png": "[encoded data removed]",
      "text/plain": [
       "<Figure size 426.5x360 with 1 Axes>"
      ]
     },
     "metadata": {
      "needs_background": "light"
     },
     "output_type": "display_data"
    }
   ],
   "source": [
    "\n",
    "sns.displot(d1,kind='kde')"
   ]
  },
  {
   "cell_type": "markdown",
   "id": "5e1fd9d5",
   "metadata": {},
   "source": [
    "#####  Note : this distribution is for per each transaction "
   ]
  },
  {
   "cell_type": "markdown",
   "id": "61a8bf14",
   "metadata": {},
   "source": [
    "from this plot we can observe that 0-17 group has less mean_purchase_per_trans\n",
    "\n",
    "51-50 has more mean_purchase_per_trans"
   ]
  },
  {
   "cell_type": "code",
   "execution_count": 116,
   "id": "c0f3675c",
   "metadata": {},
   "outputs": [
    {
     "data": {
      "text/plain": [
       "<seaborn.axisgrid.FacetGrid at 0x1e5522c23d0>"
      ]
     },
     "execution_count": 116,
     "metadata": {},
     "output_type": "execute_result"
    },
    {
     "data": {
      "image/png": "[encoded data removed]",
      "text/plain": [
       "<Figure size 425.125x360 with 1 Axes>"
      ]
     },
     "metadata": {
      "needs_background": "light"
     },
     "output_type": "display_data"
    }
   ],
   "source": [
    "sns.displot({'0-17':d1['0-17'],'51-50':d1['51-50']},kind='kde')\n",
    "    "
   ]
  },
  {
   "cell_type": "code",
   "execution_count": 117,
   "id": "3c1faff0",
   "metadata": {},
   "outputs": [
    {
     "data": {
      "text/plain": [
       "<seaborn.axisgrid.FacetGrid at 0x1e551208ac0>"
      ]
     },
     "execution_count": 117,
     "metadata": {},
     "output_type": "execute_result"
    },
    {
     "data": {
      "image/png": "[encoded data removed]",
      "text/plain": [
       "<Figure size 425.125x360 with 1 Axes>"
      ]
     },
     "metadata": {
      "needs_background": "light"
     },
     "output_type": "display_data"
    }
   ],
   "source": [
    "sns.displot({'18-25':d1['18-25'],'51-50':d1['51-50']},kind='kde')"
   ]
  },
  {
   "cell_type": "code",
   "execution_count": 118,
   "id": "c968906a",
   "metadata": {},
   "outputs": [
    {
     "name": "stdout",
     "output_type": "stream",
     "text": [
      "0-17 8937.591179000001\n",
      "18-25 9168.293978\n",
      "26_35 9247.623647\n",
      "36-45 9330.673756999999\n",
      "46-50 9207.396045\n",
      "51-50 9544.658206999999\n",
      "50+ 9330.484889\n"
     ]
    }
   ],
   "source": [
    "c_a=[]\n",
    "for i in d1:\n",
    "    print(i,np.mean(d1[i]))\n",
    "    c_a.append((i,np.mean(d1[i])))"
   ]
  },
  {
   "cell_type": "code",
   "execution_count": 119,
   "id": "c51b4e37",
   "metadata": {},
   "outputs": [
    {
     "name": "stdout",
     "output_type": "stream",
     "text": [
      "MEANS IN ACCENDING ORDER\n",
      "('0-17', 8937.591179000001)\n",
      "('18-25', 9168.293978)\n",
      "('46-50', 9207.396045)\n",
      "('26_35', 9247.623647)\n",
      "('50+', 9330.484889)\n",
      "('36-45', 9330.673756999999)\n",
      "('51-50', 9544.658206999999)\n"
     ]
    }
   ],
   "source": [
    "c_a.sort(key=lambda x : x[1])\n",
    "print(\"MEANS IN ACCENDING ORDER\")\n",
    "for i in c_a:\n",
    "    print(i)"
   ]
  },
  {
   "cell_type": "markdown",
   "id": "0a360aa2",
   "metadata": {},
   "source": [
    "form here we can see that age group of 18-25 26-35 46-50 have similar mean_purchase_per_trans\n",
    "\n",
    "36-45 and 50+ have similar mean_purchase_per_trans\n",
    "\n"
   ]
  },
  {
   "cell_type": "code",
   "execution_count": 120,
   "id": "4383c95c",
   "metadata": {},
   "outputs": [
    {
     "data": {
      "text/plain": [
       "<seaborn.axisgrid.FacetGrid at 0x1e55199b340>"
      ]
     },
     "execution_count": 120,
     "metadata": {},
     "output_type": "execute_result"
    },
    {
     "data": {
      "image/png": "[encoded data removed]",
      "text/plain": [
       "<Figure size 425.125x360 with 1 Axes>"
      ]
     },
     "metadata": {
      "needs_background": "light"
     },
     "output_type": "display_data"
    }
   ],
   "source": [
    "sns.displot({'18-25':d1['18-25'],'26-36':d1['26_35'],'46-50':d1['46-50']},kind='kde')"
   ]
  },
  {
   "cell_type": "markdown",
   "id": "03d576df",
   "metadata": {},
   "source": [
    "these three are having samilar mean_purchase_per_trans"
   ]
  },
  {
   "cell_type": "code",
   "execution_count": 121,
   "id": "a9175cc7",
   "metadata": {},
   "outputs": [
    {
     "data": {
      "text/plain": [
       "<seaborn.axisgrid.FacetGrid at 0x1e5521f3220>"
      ]
     },
     "execution_count": 121,
     "metadata": {},
     "output_type": "execute_result"
    },
    {
     "data": {
      "image/png": "[encoded data removed]",
      "text/plain": [
       "<Figure size 425.125x360 with 1 Axes>"
      ]
     },
     "metadata": {
      "needs_background": "light"
     },
     "output_type": "display_data"
    }
   ],
   "source": [
    "sns.displot({'36-45':d1['36-45'],'50+':d1['50+']},kind='kde')"
   ]
  },
  {
   "cell_type": "markdown",
   "id": "60ecb6f3",
   "metadata": {},
   "source": [
    "these two are having samilar mean_purchase_per_trans\n",
    "\n",
    "\n",
    "\n",
    "\n",
    "By all these observation we can say that :\n",
    "\n",
    "18-25 26-35 46-50 ---> similar purchase habbit\n",
    "\n",
    "36-45 and 50+   -----> similar purchase habbit"
   ]
  },
  {
   "cell_type": "code",
   "execution_count": 122,
   "id": "6f925342",
   "metadata": {},
   "outputs": [],
   "source": [
    "li=[df_age_0_17,df_age_18_25,df_age_26_35,df_age_36_45,df_age_46_50,df_age_51_55,df_age_55plus]\n",
    "ki=['0-17','18-25',  '26-35', '36-45','46-50', '51-55', '55+' ]\n",
    "dd_1={}\n",
    "for i,j in zip(li,ki):\n",
    "    caa=pd.DataFrame(i.groupby(df['User_ID'])['Purchase'].mean()).reset_index()\n",
    "    dd_1[j]=caa\n",
    "    "
   ]
  },
  {
   "cell_type": "code",
   "execution_count": 123,
   "id": "6f125277",
   "metadata": {},
   "outputs": [
    {
     "name": "stdout",
     "output_type": "stream",
     "text": [
      "0-17 ---------> 8986.31830504905\n",
      "18-25 ---------> 9515.636520662487\n",
      "26-35 ---------> 9607.126897629718\n",
      "36-45 ---------> 9686.463039046288\n",
      "46-50 ---------> 9565.974310115751\n",
      "51-55 ---------> 9630.474319436778\n",
      "55+ ---------> 9407.200822487683\n"
     ]
    }
   ],
   "source": [
    "for i in dd_1:\n",
    "    print(i,\"--------->\",dd_1[i]['Purchase'].mean())"
   ]
  },
  {
   "cell_type": "code",
   "execution_count": 124,
   "id": "0dbbc57d",
   "metadata": {},
   "outputs": [],
   "source": [
    "dd_agg_val={}\n",
    "for i in dd_1:\n",
    "    dd_agg_val[i]=boot_strap(dd_1[i]['Purchase'],2000,1000)"
   ]
  },
  {
   "cell_type": "code",
   "execution_count": 125,
   "id": "d8fdd4a7",
   "metadata": {},
   "outputs": [
    {
     "data": {
      "text/plain": [
       "<seaborn.axisgrid.FacetGrid at 0x1e553696070>"
      ]
     },
     "execution_count": 125,
     "metadata": {},
     "output_type": "execute_result"
    },
    {
     "data": {
      "image/png": "[encoded data removed]",
      "text/plain": [
       "<Figure size 425.125x360 with 1 Axes>"
      ]
     },
     "metadata": {
      "needs_background": "light"
     },
     "output_type": "display_data"
    }
   ],
   "source": [
    "sns.displot(dd_agg_val,kind='kde')"
   ]
  },
  {
   "cell_type": "markdown",
   "id": "a6c1fa25",
   "metadata": {},
   "source": [
    "By this plot be can say that age group 0-17 people has less expense \n",
    "\n",
    "age group 36-45 has more expense"
   ]
  },
  {
   "cell_type": "markdown",
   "id": "3f246889",
   "metadata": {},
   "source": [
    "####  Note : this distribution is for per each customer ( ie group by customer mean purchase),"
   ]
  },
  {
   "cell_type": "markdown",
   "id": "45bafebc",
   "metadata": {},
   "source": [
    "#####  confidence Interval for CI=95 "
   ]
  },
  {
   "cell_type": "code",
   "execution_count": 126,
   "id": "835bbb05",
   "metadata": {},
   "outputs": [
    {
     "name": "stdout",
     "output_type": "stream",
     "text": [
      "0-17\n",
      "Sample Size = 1000\n",
      "no_of_samples = 1000\n",
      "Confidence interval:  [8985.024506812832, 8989.932183423472]\n",
      "difference 4.9076766106409195\n",
      "------------------------------------------------------------------------------------------------\n",
      "18-25\n",
      "Sample Size = 1000\n",
      "no_of_samples = 1000\n",
      "Confidence interval:  [9512.345092769223, 9517.929874486354]\n",
      "difference 5.5847817171306815\n",
      "------------------------------------------------------------------------------------------------\n",
      "26-35\n",
      "Sample Size = 1000\n",
      "no_of_samples = 1000\n",
      "Confidence interval:  [9606.221232453303, 9611.381572302442]\n",
      "difference 5.160339849138836\n",
      "------------------------------------------------------------------------------------------------\n",
      "36-45\n",
      "Sample Size = 1000\n",
      "no_of_samples = 1000\n",
      "Confidence interval:  [9683.03618018958, 9688.192904407266]\n",
      "difference 5.156724217686133\n",
      "------------------------------------------------------------------------------------------------\n",
      "46-50\n",
      "Sample Size = 1000\n",
      "no_of_samples = 1000\n",
      "Confidence interval:  [9563.214162392609, 9568.444491852164]\n",
      "difference 5.230329459554923\n",
      "------------------------------------------------------------------------------------------------\n",
      "51-55\n",
      "Sample Size = 1000\n",
      "no_of_samples = 1000\n",
      "Confidence interval:  [9625.302556984489, 9630.772660531858]\n",
      "difference 5.470103547369945\n",
      "------------------------------------------------------------------------------------------------\n",
      "55+\n",
      "Sample Size = 1000\n",
      "no_of_samples = 1000\n",
      "Confidence interval:  [9404.031913662106, 9409.844870796253]\n",
      "difference 5.812957134146927\n",
      "------------------------------------------------------------------------------------------------\n"
     ]
    }
   ],
   "source": [
    "for i in dd_agg_val:\n",
    "    print(i)\n",
    "    Boot_Strap_Main(dd_agg_val[i],sample_size=1000,no_of_samples=1000,CI_left=2.5,CI_right=97.5)\n",
    "    print(\"------------------------------------------------------------------------------------------------\")\n",
    "    "
   ]
  },
  {
   "cell_type": "code",
   "execution_count": 127,
   "id": "4e725543",
   "metadata": {},
   "outputs": [
    {
     "name": "stdout",
     "output_type": "stream",
     "text": [
      "0-17\n",
      "Sample Size = 2000\n",
      "no_of_samples = 1000\n",
      "Confidence interval:  [8985.670922734364, 8989.200994276343]\n",
      "difference 3.5300715419798507\n",
      "------------------------------------------------------------------------------------------------\n",
      "18-25\n",
      "Sample Size = 2000\n",
      "no_of_samples = 1000\n",
      "Confidence interval:  [9513.099232797209, 9517.053659503894]\n",
      "difference 3.954426706684899\n",
      "------------------------------------------------------------------------------------------------\n",
      "26-35\n",
      "Sample Size = 2000\n",
      "no_of_samples = 1000\n",
      "Confidence interval:  [9607.048191911228, 9610.615217921533]\n",
      "difference 3.5670260103051987\n",
      "------------------------------------------------------------------------------------------------\n",
      "36-45\n",
      "Sample Size = 2000\n",
      "no_of_samples = 1000\n",
      "Confidence interval:  [9683.768751240566, 9687.157977561617]\n",
      "difference 3.3892263210509554\n",
      "------------------------------------------------------------------------------------------------\n",
      "46-50\n",
      "Sample Size = 2000\n",
      "no_of_samples = 1000\n",
      "Confidence interval:  [9564.141374623709, 9567.83443381828]\n",
      "difference 3.6930591945711058\n",
      "------------------------------------------------------------------------------------------------\n",
      "51-55\n",
      "Sample Size = 2000\n",
      "no_of_samples = 1000\n",
      "Confidence interval:  [9626.217945403787, 9629.969938744862]\n",
      "difference 3.7519933410749218\n",
      "------------------------------------------------------------------------------------------------\n",
      "55+\n",
      "Sample Size = 2000\n",
      "no_of_samples = 1000\n",
      "Confidence interval:  [9404.830228852543, 9408.679633437247]\n",
      "difference 3.849404584703734\n",
      "------------------------------------------------------------------------------------------------\n"
     ]
    }
   ],
   "source": [
    "for i in dd_agg_val:\n",
    "    print(i)\n",
    "    Boot_Strap_Main(dd_agg_val[i],sample_size=2000,no_of_samples=1000,CI_left=2.5,CI_right=97.5)\n",
    "    print(\"------------------------------------------------------------------------------------------------\")\n",
    "    "
   ]
  },
  {
   "cell_type": "markdown",
   "id": "d0de1012",
   "metadata": {},
   "source": [
    "From these observation we can say that :\n",
    "\n",
    "age group 0-17 do not overlap with any other age group \n",
    "\n",
    "rest all the age group overlap with each other\n",
    "\n",
    "We can say that population mean lies btw these given CI with confidence of 95%\n",
    "\n",
    "expense of 0-17 is less when compared to all\n",
    "\n",
    "expense of 36-45 is more"
   ]
  },
  {
   "cell_type": "markdown",
   "id": "f7d3530e",
   "metadata": {},
   "source": [
    "#### with  All these sample means with certain confidence interval , we can suggest that the population mean lies btw these CI, with certain confidence"
   ]
  },
  {
   "cell_type": "code",
   "execution_count": null,
   "id": "48979ede",
   "metadata": {},
   "outputs": [],
   "source": []
  }
 ],
 "metadata": {
  "kernelspec": {
   "display_name": "Python 3",
   "language": "python",
   "name": "python3"
  },
  "language_info": {
   "codemirror_mode": {
    "name": "ipython",
    "version": 3
   },
   "file_extension": ".py",
   "mimetype": "text/x-python",
   "name": "python",
   "nbconvert_exporter": "python",
   "pygments_lexer": "ipython3",
   "version": "3.8.8"
  }
 },
 "nbformat": 4,
 "nbformat_minor": 5
}
